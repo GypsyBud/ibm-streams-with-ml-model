{
 "cells": [
  {
   "cell_type": "markdown",
   "metadata": {},
   "source": [
    "# Clustering data using scikit-learn\n",
    "\n",
    "Clustering algorithms allow you to automatically find ways to group multidimentional data into clusters.\n",
    "\n",
    "In this notebook, we'll use scikit-learn to predict clusters. \n",
    "scikit-learn provides implementations of many clustering algorithms.\n",
    "We'll use **k-means** clustering to create clusters based on a shopping cart dataset.\n",
    "Using that model, we can take any shopping cart and determine which cluster it fits best.\n",
    "\n",
    "Once we've predicted a cluster, we'll use the most popular products in that cluster to\n",
    "recommend additional purchases.\n"
   ]
  },
  {
   "cell_type": "markdown",
   "metadata": {},
   "source": [
    "## Setup\n",
    "\n",
    "### Set your CPD URL in wml_credentials"
   ]
  },
  {
   "cell_type": "code",
   "execution_count": null,
   "metadata": {},
   "outputs": [],
   "source": [
    "# @hidden_cell\n",
    "import sys,os,os.path\n",
    "\n",
    "token = os.environ['USER_ACCESS_TOKEN']\n",
    "\n",
    "wml_credentials = {\n",
    "\"token\": token,\n",
    "\"instance_id\" : \"openshift\",\n",
    "\"url\": \"https://zen-cpd-zen.apps.marksturpak8.ibmcodetest.us\",  # Provide your CPD URL here\n",
    "\"version\": \"3.0.1\"\n",
    "}\n"
   ]
  },
  {
   "cell_type": "markdown",
   "metadata": {},
   "source": [
    "### Install python modules\n",
    "\n",
    "> NOTE!  Some pip installs require a kernel restart.\n",
    "\n",
    "The shell command `pip install` is used to install Python modules. Some installs require a kernel restart to complete.\n",
    "To avoid confusing errors, run the following cell once and then use the **Kernel** menu to restart the kernel before proceeding."
   ]
  },
  {
   "cell_type": "markdown",
   "metadata": {},
   "source": [
    "### Ensure you have the watson-machine-learning-client version that you need."
   ]
  },
  {
   "cell_type": "code",
   "execution_count": null,
   "metadata": {
    "scrolled": true
   },
   "outputs": [],
   "source": [
    "!pip uninstall --yes watson-machine-learning-client-V4\n",
    "!pip install watson-machine-learning-client-V4==1.0.112\n",
    "!pip freeze | grep watson-machine-learning-client\n"
   ]
  },
  {
   "cell_type": "code",
   "execution_count": null,
   "metadata": {},
   "outputs": [],
   "source": [
    "# The Watson Studio Python kernel should already have the scikit-learn module we need.\n",
    "#\n",
    "# Tested on CPD 3.0.1 with scikit-learn==0.22.1\n",
    "\n",
    "!pip freeze | grep scikit-learn\n"
   ]
  },
  {
   "cell_type": "markdown",
   "metadata": {},
   "source": [
    "## Imports\n",
    "\n",
    "Import the python modules that we need in the rest of the notebook."
   ]
  },
  {
   "cell_type": "code",
   "execution_count": null,
   "metadata": {},
   "outputs": [],
   "source": [
    "import numpy as np\n",
    "import pandas as pd\n",
    "\n",
    "from sklearn.cluster import KMeans\n"
   ]
  },
  {
   "cell_type": "markdown",
   "metadata": {},
   "source": [
    "## Load the shopping cart data for training the model\n",
    "\n",
    "Run the cell below to slurp the shopping cart training data from a CSV file into a pandas DataFrame."
   ]
  },
  {
   "cell_type": "code",
   "execution_count": null,
   "metadata": {
    "scrolled": true
   },
   "outputs": [],
   "source": [
    "df = pd.read_csv(\"https://raw.githubusercontent.com/IBM/ibm-streams-with-ml-model/master/data/customers_orders1_opt.csv\")"
   ]
  },
  {
   "cell_type": "markdown",
   "metadata": {},
   "source": [
    "## Prepare the cart data\n",
    "\n",
    "Keep the columns with product category values. The keep_columns list of labels will also be handy.\n"
   ]
  },
  {
   "cell_type": "code",
   "execution_count": null,
   "metadata": {
    "scrolled": true
   },
   "outputs": [],
   "source": [
    "keep_columns = ['Baby Food','Diapers','Formula','Lotion','Baby wash','Wipes','Fresh Fruits','Fresh Vegetables','Beer','Wine','Club Soda','Sports Drink','Chips','Popcorn','Oatmeal','Medicines','Canned Foods','Cigarettes','Cheese','Cleaning Products','Condiments','Frozen Foods','Kitchen Items','Meat','Office Supplies','Personal Care','Pet Supplies','Sea Food','Spices']\n",
    "df_carts = df[keep_columns]\n",
    "df_carts.head()"
   ]
  },
  {
   "cell_type": "markdown",
   "metadata": {},
   "source": [
    "## Train a k-means model that will put the carts into 10 clusters and show the centers"
   ]
  },
  {
   "cell_type": "code",
   "execution_count": null,
   "metadata": {},
   "outputs": [],
   "source": [
    "n_clusters = 10\n",
    "kmeans = KMeans(n_clusters=n_clusters)\n",
    "predicted = kmeans.fit_predict(df_carts.values)\n",
    "centers = kmeans.cluster_centers_"
   ]
  },
  {
   "cell_type": "code",
   "execution_count": null,
   "metadata": {
    "scrolled": true
   },
   "outputs": [],
   "source": [
    "# print(centers) but with nicer number formatting\n",
    "print(\"CLUSTER CENTERS...\")\n",
    "print(\"Number of clusters: \", n_clusters)\n",
    "print(\"Number of products: \", len(keep_columns))\n",
    "print(keep_columns)\n",
    "for center in centers:\n",
    "    print('[ ', end='')\n",
    "    for i in center:\n",
    "        print(\"{:.2f}\".format(abs(i)), end=', ')\n",
    "    print(']')\n"
   ]
  },
  {
   "cell_type": "code",
   "execution_count": null,
   "metadata": {},
   "outputs": [],
   "source": [
    "# Test the model\n",
    "# Provide a shopping cart and see how the model predicts a cluster for it.\n",
    "# Instead of zeros, try 0.5 to let the model decide whether to lean closer to buy or not-buy.\n",
    "test_cart1 = [1,0,1,1,1,1,0,1,0,0,0,0,0,0,0,0,0,0,0,0,0,0,0,0,0,0,0,0,0]\n",
    "test_cart2 = [1,0.5,1,1,1,1,0.5,1,0.5,0.5,0.5,0.5,0.5,0.5,0.5,0.5,0.5,0.5,0.5,0.5,0.5,0.5,0.5,0.5,0.5,0.5,0.5,0.5,0.5]\n",
    "print(test_cart1)\n",
    "print(test_cart2)\n",
    "test_carts = [ test_cart1, test_cart2]"
   ]
  },
  {
   "cell_type": "code",
   "execution_count": null,
   "metadata": {},
   "outputs": [],
   "source": [
    "\n",
    "predicted_cluster = kmeans.predict(   \n",
    "    test_carts)\n",
    "print(predicted_cluster)\n",
    "print(centers[predicted_cluster])"
   ]
  },
  {
   "cell_type": "code",
   "execution_count": null,
   "metadata": {},
   "outputs": [],
   "source": [
    "# print centers of predicted cluster\n",
    "center = centers[predicted_cluster][0]\n",
    "for center in centers[predicted_cluster]:\n",
    "    print('[ ', end='')\n",
    "    for i in center:\n",
    "        print(\"{:.2f}\".format(abs(i)), end=', ')\n",
    "    print(']')"
   ]
  },
  {
   "cell_type": "code",
   "execution_count": null,
   "metadata": {},
   "outputs": [],
   "source": [
    "# Use the selected cluster centers to suggest additional products\n",
    "    \n",
    "threshold = 0.5\n",
    "for i, prod in enumerate(keep_columns):\n",
    "    if test_carts[0][i] > threshold:\n",
    "        print(\"{:.2f} already in cart:\".format(center[i]), keep_columns[i])\n",
    "\n",
    "for i, prod in enumerate(keep_columns):\n",
    "    if test_carts[0][i] <= threshold and center[i] > 0.5:\n",
    "        print(\"{:.2f} product to recommend: \".format(center[i]), keep_columns[i] )\n",
    "        \n",
    "for i, prod in enumerate(keep_columns):\n",
    "    if test_carts[0][i] <= threshold and center[i] <= 0.5:\n",
    "        print(\"{:.2f} other product: \".format(center[i]), keep_columns[i] )\n"
   ]
  },
  {
   "cell_type": "code",
   "execution_count": null,
   "metadata": {},
   "outputs": [],
   "source": [
    "# To store the trained model, first create a deployment space and set it as the default.\n",
    "\n",
    "from watson_machine_learning_client import WatsonMachineLearningAPIClient\n",
    "wml_client = WatsonMachineLearningAPIClient(wml_credentials)"
   ]
  },
  {
   "cell_type": "code",
   "execution_count": null,
   "metadata": {},
   "outputs": [],
   "source": [
    "# Set your deployment space name and model name\n",
    "\n",
    "MODEL_NAME = \"Shopping Cart Cluster Model\"\n",
    "DEPLOYMENT_SPACE_NAME = \"ibm_streams_with_ml_model_deployment_space\"\n"
   ]
  },
  {
   "cell_type": "code",
   "execution_count": null,
   "metadata": {},
   "outputs": [],
   "source": [
    "\n",
    "metadata = {\n",
    " wml_client.spaces.ConfigurationMetaNames.NAME: DEPLOYMENT_SPACE_NAME,\n",
    " wml_client.spaces.ConfigurationMetaNames.DESCRIPTION: 'Deployment space created from notebook for shopping cart model'\n",
    "}\n",
    "space_details = wml_client.spaces.store(meta_props=metadata)\n",
    "\n",
    "space_uid = wml_client.spaces.get_uid(space_details)"
   ]
  },
  {
   "cell_type": "code",
   "execution_count": null,
   "metadata": {},
   "outputs": [],
   "source": [
    "wml_client.set.default_space(space_uid)"
   ]
  },
  {
   "cell_type": "code",
   "execution_count": null,
   "metadata": {},
   "outputs": [],
   "source": [
    "print(space_uid)"
   ]
  },
  {
   "cell_type": "code",
   "execution_count": null,
   "metadata": {},
   "outputs": [],
   "source": [
    "wml_client.spaces.list()"
   ]
  },
  {
   "cell_type": "code",
   "execution_count": null,
   "metadata": {},
   "outputs": [],
   "source": [
    "from sklearn.pipeline import Pipeline\n",
    "import pickle\n",
    "pipeline_org = Pipeline( steps = [ ( \"classifier\", KMeans() ) ] )\n",
    "pipeline_org.fit( df_carts, keep_columns )\n",
    "pickle.dump( pipeline_org, open( \"kmeans-prediction-model.pkl\", 'wb') )\n",
    "\n",
    "!mkdir model-dir\n",
    "!cp kmeans-prediction-model.pkl model-dir\n",
    "!tar -zcvf kmeans-prediction-model.tar.gz kmeans-prediction-model.pkl"
   ]
  },
  {
   "cell_type": "code",
   "execution_count": null,
   "metadata": {},
   "outputs": [],
   "source": [
    "input_schema = [{\n",
    "    'id': 'testid',\n",
    "    'type': 'struct',\n",
    "    'fields': [\n",
    "        {\n",
    "            'name': 'input_cart',\n",
    "            'type': 'array',\n",
    "            'nullable': False\n",
    "        }\n",
    "    ]\n",
    "}]\n",
    "\n",
    "model_def_meta_props = {\n",
    "     wml_client.model_definitions.ConfigurationMetaNames.NAME: 'Shopping_Cart_Cluster_Model_definition',\n",
    "     wml_client.model_definitions.ConfigurationMetaNames.VERSION: '1.0',\n",
    "     wml_client.model_definitions.ConfigurationMetaNames.PLATFORM: {'name': 'python',  'versions': ['3.6']}\n",
    " }"
   ]
  },
  {
   "cell_type": "code",
   "execution_count": null,
   "metadata": {},
   "outputs": [],
   "source": [
    "model_def_details = wml_client.model_definitions.store(\n",
    "     model_definition='kmeans-prediction-model.tar.gz',\n",
    "     meta_props=model_def_meta_props\n",
    ")\n",
    "\n",
    "model_def_id = wml_client.model_definitions.get_uid(model_def_details)"
   ]
  },
  {
   "cell_type": "code",
   "execution_count": null,
   "metadata": {},
   "outputs": [],
   "source": [
    "print(model_def_id)"
   ]
  },
  {
   "cell_type": "code",
   "execution_count": null,
   "metadata": {},
   "outputs": [],
   "source": [
    "wml_client.software_specifications.list()"
   ]
  },
  {
   "cell_type": "code",
   "execution_count": null,
   "metadata": {},
   "outputs": [],
   "source": [
    "\n",
    "model_props = {wml_client.repository.ModelMetaNames.NAME: MODEL_NAME,\n",
    "               wml_client.repository.ModelMetaNames.INPUT_DATA_SCHEMA: input_schema,\n",
    "               wml_client.repository.ModelMetaNames.RUNTIME_UID : \"scikit-learn_0.22-py3.6\",\n",
    "               wml_client.repository.ModelMetaNames.TYPE : \"scikit-learn_0.22\"\n",
    "              }"
   ]
  },
  {
   "cell_type": "code",
   "execution_count": null,
   "metadata": {
    "scrolled": false
   },
   "outputs": [],
   "source": [
    "model_artifact = wml_client.repository.store_model(kmeans, pipeline=pipeline_org, meta_props=model_props)"
   ]
  },
  {
   "cell_type": "code",
   "execution_count": null,
   "metadata": {},
   "outputs": [],
   "source": [
    "model_uid = wml_client.repository.get_model_uid(model_artifact)\n",
    "print(\"Model UID = \" + model_uid)"
   ]
  },
  {
   "cell_type": "code",
   "execution_count": null,
   "metadata": {},
   "outputs": [],
   "source": [
    "import json\n",
    "print(json.dumps(model_artifact, indent=3))"
   ]
  },
  {
   "cell_type": "markdown",
   "metadata": {},
   "source": [
    "<p><font size=-1 color=gray>\n",
    "&copy; Copyright 2019 IBM Corp. All Rights Reserved.\n",
    "<p>\n",
    "Licensed under the Apache License, Version 2.0 (the \"License\"); you may not use this file\n",
    "except in compliance with the License. You may obtain a copy of the License at\n",
    "https://www.apache.org/licenses/LICENSE-2.0\n",
    "Unless required by applicable law or agreed to in writing, software distributed under the\n",
    "License is distributed on an \"AS IS\" BASIS, WITHOUT WARRANTIES OR CONDITIONS OF ANY KIND, either\n",
    "express or implied. See the License for the specific language governing permissions and\n",
    "limitations under the License.\n",
    "</font></p>"
   ]
  }
 ],
 "metadata": {
  "celltoolbar": "Raw Cell Format",
  "kernelspec": {
   "display_name": "Python 3.6",
   "language": "python",
   "name": "python3"
  },
  "language_info": {
   "codemirror_mode": {
    "name": "ipython",
    "version": 3
   },
   "file_extension": ".py",
   "mimetype": "text/x-python",
   "name": "python",
   "nbconvert_exporter": "python",
   "pygments_lexer": "ipython3",
   "version": "3.6.10"
  }
 },
 "nbformat": 4,
 "nbformat_minor": 2
}
