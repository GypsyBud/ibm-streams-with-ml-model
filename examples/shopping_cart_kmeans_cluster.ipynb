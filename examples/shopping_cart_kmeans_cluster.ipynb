{
 "cells": [
  {
   "cell_type": "markdown",
   "metadata": {},
   "source": [
    "## Ensure you have the watson-machine-learning-client version that you need."
   ]
  },
  {
   "cell_type": "code",
   "execution_count": 1,
   "metadata": {
    "scrolled": true
   },
   "outputs": [
    {
     "name": "stdout",
     "output_type": "stream",
     "text": [
      "watson-machine-learning-client-V4==1.0.112\r\n"
     ]
    }
   ],
   "source": [
    "# !pip uninstall --yes watson-machine-learning-client-V4\n",
    "# !pip install watson-machine-learning-client-V4==1.0.112\n",
    "!pip freeze | grep watson-machine-learning-client\n"
   ]
  },
  {
   "cell_type": "markdown",
   "metadata": {},
   "source": [
    "# Clustering data using scikit-learn\n",
    "\n",
    "Clustering algorithms allow you to automatically find ways to group multidimentional data into clusters.\n",
    "\n",
    "In this notebook, we'll use scikit-learn to predict clusters. \n",
    "scikit-learn provides implementations of many clustering algorithms.\n",
    "We'll use **k-means** clustering to create clusters based on a shopping cart dataset.\n",
    "Using that model, we can take any shopping cart and determine which cluster it fits best.\n",
    "\n",
    "Once we've predicted a cluster, we'll use the most popular products in that cluster to\n",
    "recommend additional purchases.\n"
   ]
  },
  {
   "cell_type": "markdown",
   "metadata": {},
   "source": [
    "## Setup\n",
    "\n",
    "### Install python modules\n",
    "\n",
    "> NOTE!  Some pip installs require a kernel restart.\n",
    "\n",
    "The shell command `pip install` is used to install Python modules. Some installs require a kernel restart to complete.\n",
    "To avoid confusing errors, run the following cell once and then use the **Kernel** menu to restart the kernel before proceeding.\n"
   ]
  },
  {
   "cell_type": "code",
   "execution_count": 2,
   "metadata": {},
   "outputs": [
    {
     "name": "stdout",
     "output_type": "stream",
     "text": [
      "scikit-learn==0.22.1\r\n"
     ]
    }
   ],
   "source": [
    "# The Watson Studio Python kernel should already have the scikit-learn module we need.\n",
    "\n",
    "!pip freeze | grep scikit-learn\n",
    "\n",
    "# CPD 3.0.1 has scikit-learn==0.22.1"
   ]
  },
  {
   "cell_type": "markdown",
   "metadata": {},
   "source": [
    "## Imports\n",
    "\n",
    "Import the python modules that we need in the rest of the notebook."
   ]
  },
  {
   "cell_type": "code",
   "execution_count": 3,
   "metadata": {},
   "outputs": [],
   "source": [
    "import numpy as np\n",
    "import pandas as pd\n",
    "\n",
    "from sklearn.cluster import KMeans\n"
   ]
  },
  {
   "cell_type": "markdown",
   "metadata": {},
   "source": [
    "## Load the shopping cart data for training the model\n",
    "\n",
    "Run the cell below to slurp the shopping cart training data from a CSV file into a pandas DataFrame."
   ]
  },
  {
   "cell_type": "code",
   "execution_count": 4,
   "metadata": {
    "scrolled": true
   },
   "outputs": [],
   "source": [
    "df = pd.read_csv(\"https://raw.githubusercontent.com/IBM/product-recommendation-with-watson-ml/master/data/customers_orders1_opt.csv\")"
   ]
  },
  {
   "cell_type": "markdown",
   "metadata": {},
   "source": [
    "## Prepare the cart data\n",
    "\n",
    "Keep the columns with product category values. The keep_columns list of labels will also be handy.\n"
   ]
  },
  {
   "cell_type": "code",
   "execution_count": 5,
   "metadata": {
    "scrolled": true
   },
   "outputs": [
    {
     "data": {
      "text/html": [
       "<div>\n",
       "<style scoped>\n",
       "    .dataframe tbody tr th:only-of-type {\n",
       "        vertical-align: middle;\n",
       "    }\n",
       "\n",
       "    .dataframe tbody tr th {\n",
       "        vertical-align: top;\n",
       "    }\n",
       "\n",
       "    .dataframe thead th {\n",
       "        text-align: right;\n",
       "    }\n",
       "</style>\n",
       "<table border=\"1\" class=\"dataframe\">\n",
       "  <thead>\n",
       "    <tr style=\"text-align: right;\">\n",
       "      <th></th>\n",
       "      <th>Baby Food</th>\n",
       "      <th>Diapers</th>\n",
       "      <th>Formula</th>\n",
       "      <th>Lotion</th>\n",
       "      <th>Baby wash</th>\n",
       "      <th>Wipes</th>\n",
       "      <th>Fresh Fruits</th>\n",
       "      <th>Fresh Vegetables</th>\n",
       "      <th>Beer</th>\n",
       "      <th>Wine</th>\n",
       "      <th>...</th>\n",
       "      <th>Cleaning Products</th>\n",
       "      <th>Condiments</th>\n",
       "      <th>Frozen Foods</th>\n",
       "      <th>Kitchen Items</th>\n",
       "      <th>Meat</th>\n",
       "      <th>Office Supplies</th>\n",
       "      <th>Personal Care</th>\n",
       "      <th>Pet Supplies</th>\n",
       "      <th>Sea Food</th>\n",
       "      <th>Spices</th>\n",
       "    </tr>\n",
       "  </thead>\n",
       "  <tbody>\n",
       "    <tr>\n",
       "      <th>0</th>\n",
       "      <td>0</td>\n",
       "      <td>0</td>\n",
       "      <td>1</td>\n",
       "      <td>1</td>\n",
       "      <td>0</td>\n",
       "      <td>0</td>\n",
       "      <td>0</td>\n",
       "      <td>0</td>\n",
       "      <td>0</td>\n",
       "      <td>0</td>\n",
       "      <td>...</td>\n",
       "      <td>0</td>\n",
       "      <td>1</td>\n",
       "      <td>0</td>\n",
       "      <td>0</td>\n",
       "      <td>0</td>\n",
       "      <td>0</td>\n",
       "      <td>0</td>\n",
       "      <td>0</td>\n",
       "      <td>0</td>\n",
       "      <td>0</td>\n",
       "    </tr>\n",
       "    <tr>\n",
       "      <th>1</th>\n",
       "      <td>0</td>\n",
       "      <td>0</td>\n",
       "      <td>1</td>\n",
       "      <td>0</td>\n",
       "      <td>1</td>\n",
       "      <td>0</td>\n",
       "      <td>0</td>\n",
       "      <td>1</td>\n",
       "      <td>0</td>\n",
       "      <td>0</td>\n",
       "      <td>...</td>\n",
       "      <td>1</td>\n",
       "      <td>0</td>\n",
       "      <td>0</td>\n",
       "      <td>0</td>\n",
       "      <td>0</td>\n",
       "      <td>0</td>\n",
       "      <td>0</td>\n",
       "      <td>0</td>\n",
       "      <td>0</td>\n",
       "      <td>0</td>\n",
       "    </tr>\n",
       "    <tr>\n",
       "      <th>2</th>\n",
       "      <td>0</td>\n",
       "      <td>1</td>\n",
       "      <td>0</td>\n",
       "      <td>0</td>\n",
       "      <td>0</td>\n",
       "      <td>0</td>\n",
       "      <td>0</td>\n",
       "      <td>0</td>\n",
       "      <td>1</td>\n",
       "      <td>0</td>\n",
       "      <td>...</td>\n",
       "      <td>0</td>\n",
       "      <td>0</td>\n",
       "      <td>0</td>\n",
       "      <td>0</td>\n",
       "      <td>0</td>\n",
       "      <td>0</td>\n",
       "      <td>0</td>\n",
       "      <td>0</td>\n",
       "      <td>0</td>\n",
       "      <td>0</td>\n",
       "    </tr>\n",
       "    <tr>\n",
       "      <th>3</th>\n",
       "      <td>0</td>\n",
       "      <td>0</td>\n",
       "      <td>0</td>\n",
       "      <td>1</td>\n",
       "      <td>0</td>\n",
       "      <td>0</td>\n",
       "      <td>0</td>\n",
       "      <td>0</td>\n",
       "      <td>0</td>\n",
       "      <td>0</td>\n",
       "      <td>...</td>\n",
       "      <td>0</td>\n",
       "      <td>0</td>\n",
       "      <td>0</td>\n",
       "      <td>0</td>\n",
       "      <td>0</td>\n",
       "      <td>0</td>\n",
       "      <td>0</td>\n",
       "      <td>0</td>\n",
       "      <td>0</td>\n",
       "      <td>0</td>\n",
       "    </tr>\n",
       "    <tr>\n",
       "      <th>4</th>\n",
       "      <td>0</td>\n",
       "      <td>0</td>\n",
       "      <td>0</td>\n",
       "      <td>0</td>\n",
       "      <td>0</td>\n",
       "      <td>0</td>\n",
       "      <td>0</td>\n",
       "      <td>0</td>\n",
       "      <td>0</td>\n",
       "      <td>0</td>\n",
       "      <td>...</td>\n",
       "      <td>0</td>\n",
       "      <td>0</td>\n",
       "      <td>0</td>\n",
       "      <td>0</td>\n",
       "      <td>0</td>\n",
       "      <td>0</td>\n",
       "      <td>0</td>\n",
       "      <td>0</td>\n",
       "      <td>0</td>\n",
       "      <td>0</td>\n",
       "    </tr>\n",
       "  </tbody>\n",
       "</table>\n",
       "<p>5 rows × 29 columns</p>\n",
       "</div>"
      ],
      "text/plain": [
       "   Baby Food  Diapers  Formula  Lotion  Baby wash  Wipes  Fresh Fruits  \\\n",
       "0          0        0        1       1          0      0             0   \n",
       "1          0        0        1       0          1      0             0   \n",
       "2          0        1        0       0          0      0             0   \n",
       "3          0        0        0       1          0      0             0   \n",
       "4          0        0        0       0          0      0             0   \n",
       "\n",
       "   Fresh Vegetables  Beer  Wine  ...  Cleaning Products  Condiments  \\\n",
       "0                 0     0     0  ...                  0           1   \n",
       "1                 1     0     0  ...                  1           0   \n",
       "2                 0     1     0  ...                  0           0   \n",
       "3                 0     0     0  ...                  0           0   \n",
       "4                 0     0     0  ...                  0           0   \n",
       "\n",
       "   Frozen Foods  Kitchen Items  Meat  Office Supplies  Personal Care  \\\n",
       "0             0              0     0                0              0   \n",
       "1             0              0     0                0              0   \n",
       "2             0              0     0                0              0   \n",
       "3             0              0     0                0              0   \n",
       "4             0              0     0                0              0   \n",
       "\n",
       "   Pet Supplies  Sea Food  Spices  \n",
       "0             0         0       0  \n",
       "1             0         0       0  \n",
       "2             0         0       0  \n",
       "3             0         0       0  \n",
       "4             0         0       0  \n",
       "\n",
       "[5 rows x 29 columns]"
      ]
     },
     "execution_count": 5,
     "metadata": {},
     "output_type": "execute_result"
    }
   ],
   "source": [
    "keep_columns = ['Baby Food','Diapers','Formula','Lotion','Baby wash','Wipes','Fresh Fruits','Fresh Vegetables','Beer','Wine','Club Soda','Sports Drink','Chips','Popcorn','Oatmeal','Medicines','Canned Foods','Cigarettes','Cheese','Cleaning Products','Condiments','Frozen Foods','Kitchen Items','Meat','Office Supplies','Personal Care','Pet Supplies','Sea Food','Spices']\n",
    "df_carts = df[keep_columns]\n",
    "df_carts.head()"
   ]
  },
  {
   "cell_type": "markdown",
   "metadata": {},
   "source": [
    "## Train a k-means model that will put the carts into 10 clusters and show the centers"
   ]
  },
  {
   "cell_type": "code",
   "execution_count": 6,
   "metadata": {},
   "outputs": [],
   "source": [
    "n_clusters = 10\n",
    "kmeans = KMeans(n_clusters=n_clusters)\n",
    "predicted = kmeans.fit_predict(df_carts.values)\n",
    "centers = kmeans.cluster_centers_"
   ]
  },
  {
   "cell_type": "code",
   "execution_count": 11,
   "metadata": {
    "scrolled": true
   },
   "outputs": [
    {
     "name": "stdout",
     "output_type": "stream",
     "text": [
      "CLUSTER CENTERS...\n",
      "Number of clusters:  10\n",
      "Number of products:  29\n",
      "['Baby Food', 'Diapers', 'Formula', 'Lotion', 'Baby wash', 'Wipes', 'Fresh Fruits', 'Fresh Vegetables', 'Beer', 'Wine', 'Club Soda', 'Sports Drink', 'Chips', 'Popcorn', 'Oatmeal', 'Medicines', 'Canned Foods', 'Cigarettes', 'Cheese', 'Cleaning Products', 'Condiments', 'Frozen Foods', 'Kitchen Items', 'Meat', 'Office Supplies', 'Personal Care', 'Pet Supplies', 'Sea Food', 'Spices']\n",
      "[ 0.00, 0.00, 0.00, 0.00, 0.00, 0.00, 0.00, 0.00, 0.00, 0.00, 0.99, 0.00, 0.97, 0.74, 0.00, 0.00, 1.00, 0.00, 0.00, 0.00, 1.00, 0.00, 0.00, 0.00, 0.00, 0.00, 0.00, 0.00, 0.00, ]\n",
      "[ 0.09, 0.01, 0.11, 0.09, 0.09, 0.10, 0.09, 0.10, 0.00, 0.00, 0.38, 0.11, 0.00, 0.00, 0.09, 0.00, 0.09, 0.00, 0.00, 0.01, 0.16, 0.00, 0.10, 0.00, 0.09, 0.00, 0.00, 0.00, 0.00, ]\n",
      "[ 0.02, 0.02, 0.02, 0.02, 0.02, 0.03, 0.02, 0.03, 0.00, 0.00, 0.37, 0.02, 0.00, 1.00, 0.04, 0.00, 0.00, 0.00, 0.00, 0.03, 0.03, 0.00, 0.03, 0.00, 0.02, 0.00, 0.00, 0.00, 0.00, ]\n",
      "[ 0.11, 0.24, 0.12, 0.10, 0.11, 0.12, 0.13, 0.12, 0.13, 0.08, 0.04, 0.12, 0.00, 0.06, 0.12, 0.05, 0.10, 1.00, 0.06, 0.24, 0.22, 0.02, 0.14, 1.00, 0.14, 0.05, 0.13, 0.00, 1.00, ]\n",
      "[ 0.04, 0.08, 0.04, 0.04, 0.04, 0.04, 0.04, 0.04, 0.05, 1.00, 0.00, 0.05, 0.00, 0.00, 0.04, 0.66, 0.04, 0.38, 0.65, 0.07, 0.08, 0.14, 0.04, 0.02, 0.04, 0.67, 0.03, 0.72, 0.28, ]\n",
      "[ 0.01, 0.01, 0.01, 0.01, 0.01, 0.01, 0.01, 0.01, 0.00, 0.00, 1.00, 0.01, 1.00, 0.31, 0.01, 0.00, 1.00, 0.00, 0.00, 0.01, 0.00, 0.00, 0.01, 0.00, 0.01, 0.00, 0.00, 0.00, 0.00, ]\n",
      "[ 0.13, 0.07, 0.14, 0.15, 0.12, 0.11, 0.15, 0.14, 0.00, 0.00, 0.06, 0.11, 0.00, 0.05, 0.13, 0.00, 0.15, 0.00, 0.00, 1.00, 0.27, 0.00, 0.15, 0.00, 0.13, 0.00, 0.63, 0.00, 0.00, ]\n",
      "[ 0.07, 0.12, 0.07, 0.06, 0.06, 0.08, 0.07, 0.06, 0.06, 0.27, 0.00, 0.07, 0.00, 0.00, 0.05, 0.62, 0.08, 0.63, 0.62, 0.12, 0.14, 0.78, 0.06, 0.04, 0.07, 0.63, 0.06, 0.00, 0.50, ]\n",
      "[ 0.15, 1.00, 0.12, 0.12, 0.14, 0.12, 0.13, 0.14, 0.63, 0.00, 0.06, 0.13, 0.00, 0.06, 0.16, 0.00, 0.13, 0.00, 0.00, 0.20, 0.27, 0.00, 0.13, 0.00, 0.15, 0.00, 0.08, 0.00, 0.00, ]\n",
      "[ 0.05, 0.08, 0.05, 0.04, 0.05, 0.04, 0.05, 0.05, 0.04, 1.00, 0.00, 0.04, 0.00, 0.00, 0.05, 0.26, 0.04, 0.53, 0.25, 0.08, 0.08, 0.60, 0.05, 0.05, 0.04, 0.31, 0.04, 0.72, 0.77, ]\n"
     ]
    }
   ],
   "source": [
    "# print(centers) but with nicer number formatting\n",
    "print(\"CLUSTER CENTERS...\")\n",
    "print(\"Number of clusters: \", n_clusters)\n",
    "print(\"Number of products: \", len(keep_columns))\n",
    "print(keep_columns)\n",
    "for center in centers:\n",
    "    print('[ ', end='')\n",
    "    for i in center:\n",
    "        print(\"{:.2f}\".format(abs(i)), end=', ')\n",
    "    print(']')\n"
   ]
  },
  {
   "cell_type": "code",
   "execution_count": 15,
   "metadata": {},
   "outputs": [
    {
     "name": "stdout",
     "output_type": "stream",
     "text": [
      "[1, 0, 1, 1, 1, 1, 0, 1, 0, 0, 0, 0, 0, 0, 0, 0, 0, 0, 0, 0, 0, 0, 0, 0, 0, 0, 0, 0, 0]\n",
      "[1, 0.5, 1, 1, 1, 1, 0.5, 1, 0.5, 0.5, 0.5, 0.5, 0.5, 0.5, 0.5, 0.5, 0.5, 0.5, 0.5, 0.5, 0.5, 0.5, 0.5, 0.5, 0.5, 0.5, 0.5, 0.5, 0.5]\n"
     ]
    }
   ],
   "source": [
    "# Test the model\n",
    "# Provide a shopping cart and see how the model predicts a cluster for it.\n",
    "# Instead of zeros, try 0.5 to let the model decide whether to lean closer to buy or not-buy.\n",
    "test_cart1 = [1,0,1,1,1,1,0,1,0,0,0,0,0,0,0,0,0,0,0,0,0,0,0,0,0,0,0,0,0]\n",
    "test_cart2 = [1,0.5,1,1,1,1,0.5,1,0.5,0.5,0.5,0.5,0.5,0.5,0.5,0.5,0.5,0.5,0.5,0.5,0.5,0.5,0.5,0.5,0.5,0.5,0.5,0.5,0.5]\n",
    "print(test_cart1)\n",
    "print(test_cart2)\n",
    "test_carts = [ test_cart1, test_cart2]"
   ]
  },
  {
   "cell_type": "code",
   "execution_count": 16,
   "metadata": {},
   "outputs": [
    {
     "name": "stdout",
     "output_type": "stream",
     "text": [
      "[1 7]\n",
      "[[ 8.83550489e-02  1.14006515e-02  1.06677524e-01  8.99837134e-02\n",
      "   9.36482085e-02  9.60912052e-02  9.28338762e-02  9.89413681e-02\n",
      "   2.08166817e-16  8.02136135e-15  3.77850163e-01  1.06677524e-01\n",
      "   1.44328993e-15  1.72084569e-15  9.44625407e-02 -3.02535774e-15\n",
      "   9.36482085e-02 -3.99680289e-15 -5.46784840e-15  1.26221498e-02\n",
      "   1.62866450e-01  3.41393580e-15  9.64983713e-02 -2.11636264e-15\n",
      "   9.36482085e-02 -6.35602682e-15  1.36696210e-15  2.55351296e-15\n",
      "  -7.43849426e-15]\n",
      " [ 6.79347826e-02  1.18659420e-01  6.97463768e-02  5.79710145e-02\n",
      "   5.88768116e-02  7.60869565e-02  7.42753623e-02  6.43115942e-02\n",
      "   6.06884058e-02  2.69021739e-01  1.49880108e-15  7.06521739e-02\n",
      "   4.21884749e-15  1.55431223e-15  4.80072464e-02  6.21376812e-01\n",
      "   7.60869565e-02  6.28623188e-01  6.25000000e-01  1.18659420e-01\n",
      "   1.43115942e-01  7.80797101e-01  6.25000000e-02  4.25724638e-02\n",
      "   6.61231884e-02  6.34963768e-01  5.97826087e-02  4.99600361e-16\n",
      "   4.97282609e-01]]\n"
     ]
    }
   ],
   "source": [
    "\n",
    "predicted_cluster = kmeans.predict(   \n",
    "    test_carts)\n",
    "print(predicted_cluster)\n",
    "print(centers[predicted_cluster])"
   ]
  },
  {
   "cell_type": "code",
   "execution_count": 18,
   "metadata": {},
   "outputs": [
    {
     "name": "stdout",
     "output_type": "stream",
     "text": [
      "[ 0.09, 0.01, 0.11, 0.09, 0.09, 0.10, 0.09, 0.10, 0.00, 0.00, 0.38, 0.11, 0.00, 0.00, 0.09, 0.00, 0.09, 0.00, 0.00, 0.01, 0.16, 0.00, 0.10, 0.00, 0.09, 0.00, 0.00, 0.00, 0.00, ]\n",
      "[ 0.07, 0.12, 0.07, 0.06, 0.06, 0.08, 0.07, 0.06, 0.06, 0.27, 0.00, 0.07, 0.00, 0.00, 0.05, 0.62, 0.08, 0.63, 0.62, 0.12, 0.14, 0.78, 0.06, 0.04, 0.07, 0.63, 0.06, 0.00, 0.50, ]\n"
     ]
    }
   ],
   "source": [
    "# print centers of predicted cluster\n",
    "center = centers[predicted_cluster][0]\n",
    "for center in centers[predicted_cluster]:\n",
    "    print('[ ', end='')\n",
    "    for i in center:\n",
    "        print(\"{:.2f}\".format(abs(i)), end=', ')\n",
    "    print(']')"
   ]
  },
  {
   "cell_type": "code",
   "execution_count": 20,
   "metadata": {},
   "outputs": [
    {
     "name": "stdout",
     "output_type": "stream",
     "text": [
      "0.07 already in cart: Baby Food\n",
      "0.07 already in cart: Formula\n",
      "0.06 already in cart: Lotion\n",
      "0.06 already in cart: Baby wash\n",
      "0.08 already in cart: Wipes\n",
      "0.06 already in cart: Fresh Vegetables\n",
      "0.62 product to recommend:  Medicines\n",
      "0.63 product to recommend:  Cigarettes\n",
      "0.62 product to recommend:  Cheese\n",
      "0.78 product to recommend:  Frozen Foods\n",
      "0.63 product to recommend:  Personal Care\n",
      "0.12 other product:  Diapers\n",
      "0.07 other product:  Fresh Fruits\n",
      "0.06 other product:  Beer\n",
      "0.27 other product:  Wine\n",
      "0.00 other product:  Club Soda\n",
      "0.07 other product:  Sports Drink\n",
      "0.00 other product:  Chips\n",
      "0.00 other product:  Popcorn\n",
      "0.05 other product:  Oatmeal\n",
      "0.08 other product:  Canned Foods\n",
      "0.12 other product:  Cleaning Products\n",
      "0.14 other product:  Condiments\n",
      "0.06 other product:  Kitchen Items\n",
      "0.04 other product:  Meat\n",
      "0.07 other product:  Office Supplies\n",
      "0.06 other product:  Pet Supplies\n",
      "0.00 other product:  Sea Food\n",
      "0.50 other product:  Spices\n"
     ]
    }
   ],
   "source": [
    "# Use the selected cluster centers to suggest additional products\n",
    "    \n",
    "threshold = 0.5\n",
    "for i, prod in enumerate(keep_columns):\n",
    "    if test_carts[0][i] > threshold:\n",
    "        print(\"{:.2f} already in cart:\".format(center[i]), keep_columns[i])\n",
    "\n",
    "for i, prod in enumerate(keep_columns):\n",
    "    if test_carts[0][i] <= threshold and center[i] > 0.5:\n",
    "        print(\"{:.2f} product to recommend: \".format(center[i]), keep_columns[i] )\n",
    "        \n",
    "for i, prod in enumerate(keep_columns):\n",
    "    if test_carts[0][i] <= threshold and center[i] <= 0.5:\n",
    "        print(\"{:.2f} other product: \".format(center[i]), keep_columns[i] )\n"
   ]
  },
  {
   "cell_type": "code",
   "execution_count": 21,
   "metadata": {},
   "outputs": [],
   "source": [
    "# @hidden_cell\n",
    "import sys,os,os.path\n",
    "\n",
    "token = os.environ['USER_ACCESS_TOKEN']\n",
    "\n",
    "wml_credentials = {\n",
    "\"token\": token,\n",
    "\"instance_id\" : \"openshift\",\n",
    "\"url\": \"https://zen-cpd-zen.apps.xxxxxxxxpak8.ibmcodetest.us\",  # Provide your CPD URL here\n",
    "\"version\": \"3.0.1\"\n",
    "}\n"
   ]
  },
  {
   "cell_type": "code",
   "execution_count": 22,
   "metadata": {},
   "outputs": [],
   "source": [
    "# To store the trained model, first create a deployment space and set it as the default.\n",
    "\n",
    "from watson_machine_learning_client import WatsonMachineLearningAPIClient\n",
    "wml_client = WatsonMachineLearningAPIClient(wml_credentials)"
   ]
  },
  {
   "cell_type": "code",
   "execution_count": 23,
   "metadata": {},
   "outputs": [],
   "source": [
    "# Set your deployment space name and model name\n",
    "\n",
    "# MODEL_NAME = \"Shopping Cart Affinity Model\"\n",
    "# DEPLOYMENT_SPACE_NAME = \"shopping_ml_deployment_space\"\n",
    "MODEL_NAME = \"testmodel0825\"\n",
    "DEPLOYMENT_SPACE_NAME = \"testdepspace0825\""
   ]
  },
  {
   "cell_type": "code",
   "execution_count": 24,
   "metadata": {},
   "outputs": [],
   "source": [
    "\n",
    "metadata = {\n",
    " wml_client.spaces.ConfigurationMetaNames.NAME: DEPLOYMENT_SPACE_NAME,\n",
    " wml_client.spaces.ConfigurationMetaNames.DESCRIPTION: 'Deployment space created from notebook for shopping cart model'\n",
    "}\n",
    "space_details = wml_client.spaces.store(meta_props=metadata)\n",
    "\n",
    "space_uid = wml_client.spaces.get_uid(space_details)"
   ]
  },
  {
   "cell_type": "code",
   "execution_count": 25,
   "metadata": {},
   "outputs": [
    {
     "data": {
      "text/plain": [
       "'SUCCESS'"
      ]
     },
     "execution_count": 25,
     "metadata": {},
     "output_type": "execute_result"
    }
   ],
   "source": [
    "wml_client.set.default_space(space_uid)"
   ]
  },
  {
   "cell_type": "code",
   "execution_count": 26,
   "metadata": {},
   "outputs": [
    {
     "name": "stdout",
     "output_type": "stream",
     "text": [
      "f5dfdade-b422-4488-b459-490fa1adfbaa\n"
     ]
    }
   ],
   "source": [
    "print(space_uid)"
   ]
  },
  {
   "cell_type": "code",
   "execution_count": 27,
   "metadata": {},
   "outputs": [
    {
     "name": "stdout",
     "output_type": "stream",
     "text": [
      "------------------------------------  ----------------------------------------  ------------------------\n",
      "GUID                                  NAME                                      CREATED\n",
      "f5dfdade-b422-4488-b459-490fa1adfbaa  testdepspace0825                          2020-08-25T18:02:23.959Z\n",
      "2f0d8a0e-124b-4904-bb31-1a2f38b9c64d  shopping_ml_deployment_space              2020-08-25T02:18:36.466Z\n",
      "9bac80bb-ee30-4ac4-9c34-8de8732e117b  shopping_ml_deployment_space              2020-08-25T01:58:10.188Z\n",
      "ff049a39-bb3c-4c05-97a1-591f57ed7879  shopping_ml_deployment_space              2020-08-25T01:50:47.588Z\n",
      "a39d1834-576b-4861-8d94-b167a2011506  shopping_ml_deployment_space              2020-08-25T01:39:31.515Z\n",
      "b68bc017-4e55-4d3b-a53a-9ef554b3e76d  shopping_ml_deployment_space              2020-08-25T01:37:07.951Z\n",
      "eafb91e0-2eaf-4fc6-afae-407faa18fcb4  shopping_ml_deployment_space              2020-08-25T01:17:36.763Z\n",
      "65b77eec-913a-4e5b-b1ce-348eb2545659  Deployment Space for Shopping ML Project  2020-08-25T01:08:35.560Z\n",
      "191c495c-7196-42a2-85f9-801da8b0fc2c  shopping_ml_deployment_space              2020-08-25T00:36:33.463Z\n",
      "323afad5-c704-49de-91b6-be8ec745ff9f  streams_ml_deployment_space6              2020-08-24T21:23:55.458Z\n",
      "e4102760-827d-4d84-b94c-40972caf3a83  streams_ml_deployment_space               2020-08-21T22:50:08.641Z\n",
      "9b7f2c54-6c67-4e02-87b6-0d92e65116ec  Streams with ML                           2020-08-21T05:17:42.978Z\n",
      "------------------------------------  ----------------------------------------  ------------------------\n"
     ]
    }
   ],
   "source": [
    "wml_client.spaces.list()"
   ]
  },
  {
   "cell_type": "code",
   "execution_count": 28,
   "metadata": {},
   "outputs": [
    {
     "name": "stdout",
     "output_type": "stream",
     "text": [
      "kmeans-prediction-model.pkl\r\n"
     ]
    }
   ],
   "source": [
    "from sklearn.pipeline import Pipeline\n",
    "import pickle\n",
    "pipeline_org = Pipeline( steps = [ ( \"classifier\", KMeans() ) ] )\n",
    "pipeline_org.fit( df_carts, keep_columns )\n",
    "pickle.dump( pipeline_org, open( \"kmeans-prediction-model.pkl\", 'wb') )\n",
    "\n",
    "!mkdir model-dir\n",
    "!cp kmeans-prediction-model.pkl model-dir\n",
    "!tar -zcvf kmeans-prediction-model.tar.gz kmeans-prediction-model.pkl"
   ]
  },
  {
   "cell_type": "code",
   "execution_count": 29,
   "metadata": {},
   "outputs": [],
   "source": [
    "input_schema = [{\n",
    "    'id': 'testid',\n",
    "    'type': 'struct',\n",
    "    'fields': [\n",
    "        {\n",
    "            'name': 'input_cart',\n",
    "            'type': 'array',\n",
    "            'nullable': False\n",
    "        }\n",
    "    ]\n",
    "}]\n",
    "\n",
    "model_def_meta_props = {\n",
    "     wml_client.model_definitions.ConfigurationMetaNames.NAME: 'Shopping_Cart_Cluster_Model_definition',\n",
    "     wml_client.model_definitions.ConfigurationMetaNames.VERSION: '1.0',\n",
    "     wml_client.model_definitions.ConfigurationMetaNames.PLATFORM: {'name': 'python',  'versions': ['3.6']}\n",
    " }"
   ]
  },
  {
   "cell_type": "code",
   "execution_count": 30,
   "metadata": {},
   "outputs": [],
   "source": [
    "model_def_details = wml_client.model_definitions.store(\n",
    "     model_definition='kmeans-prediction-model.tar.gz',\n",
    "     meta_props=model_def_meta_props\n",
    ")\n",
    "\n",
    "model_def_id = wml_client.model_definitions.get_uid(model_def_details)"
   ]
  },
  {
   "cell_type": "code",
   "execution_count": 31,
   "metadata": {},
   "outputs": [
    {
     "name": "stdout",
     "output_type": "stream",
     "text": [
      "83d3ae3e-26b0-4ca9-9069-04fcc65875df\n"
     ]
    }
   ],
   "source": [
    "print(model_def_id)"
   ]
  },
  {
   "cell_type": "code",
   "execution_count": 32,
   "metadata": {},
   "outputs": [
    {
     "name": "stdout",
     "output_type": "stream",
     "text": [
      "--------------------------  ------------------------------------  ----\n",
      "NAME                        ASSET_ID                              TYPE\n",
      "default_py3.6               0062b8c9-8b7d-44a0-a9b9-46c416adcbd9  base\n",
      "scikit-learn_0.20-py3.6     09c5a1d0-9c1e-4473-a344-eb7b665ff687  base\n",
      "ai-function_0.1-py3.6       0cdb0f1e-5376-4f4d-92dd-da3b69aa9bda  base\n",
      "shiny-r3.6                  0e6e79df-875e-4f24-8ae9-62dcc2148306  base\n",
      "pytorch_1.1-py3.6           10ac12d6-6b30-4ccd-8392-3e922c096a92  base\n",
      "scikit-learn_0.22-py3.6     154010fa-5b3b-4ac1-82af-4d5ee5abbc85  base\n",
      "default_r3.6                1b70aec3-ab34-4b87-8aa0-a4a3c8296a36  base\n",
      "tensorflow_1.15-py3.6       2b73a275-7cbf-420b-a912-eae7f436e0bc  base\n",
      "pytorch_1.2-py3.6           2c8ef57d-2687-4b7d-acce-01f94976dac1  base\n",
      "spark-mllib_2.3             2e51f700-bca0-4b0d-88dc-5c6791338875  base\n",
      "pytorch-onnx_1.1-py3.6-edt  32983cea-3f32-4400-8965-dde874a8d67e  base\n",
      "spark-mllib_2.4             390d21f8-e58b-4fac-9c55-d7ceda621326  base\n",
      "xgboost_0.82-py3.6          39e31acd-5f30-41dc-ae44-60233c80306e  base\n",
      "pytorch-onnx_1.2-py3.6-edt  40589d0e-7019-4e28-8daa-fb03b6f4fe12  base\n",
      "spark-mllib_2.4-r_3.6       49403dff-92e9-4c87-a3d7-a42d0021c095  base\n",
      "xgboost_0.90-py3.6          4ff8d6c2-1343-4c18-85e1-689c965304d3  base\n",
      "pytorch-onnx_1.1-py3.6      50f95b2a-bc16-43bb-bc94-b0bed208c60b  base\n",
      "spark-mllib_2.4-scala_2.11  55a70f99-7320-4be5-9fb9-9edb5a443af5  base\n",
      "spss-modeler_18.1           5c3cad7e-507f-4b2a-a9a3-ab53a21dee8b  base\n",
      "spark-mllib_2.3-r_3.6       6586b9e3-ccd6-4f92-900f-0f8cb2bd6f0c  base\n",
      "spss-modeler_18.2           687eddc9-028a-4117-b9dd-e57b36f1efa5  base\n",
      "pytorch-onnx_1.2-py3.6      692a6a4d-2c4d-45ff-a1ed-b167ee55469a  base\n",
      "do_12.9                     75a3a4b0-6aa0-41b3-a618-48b1f56332a6  base\n",
      "spark-mllib_2.3-scala_2.11  7963efe5-bbec-417e-92cf-0574e21b4e8d  base\n",
      "caffe_1.0-py3.6             7bb3dbe2-da6e-4145-918d-b6d84aa93b6b  base\n",
      "cuda-py3.6                  82c79ece-4d12-40e6-8787-a7b9e0f62770  base\n",
      "hybrid_0.1                  8c1a58c6-62b5-4dc4-987a-df751c2756b6  base\n",
      "caffe-ibm_1.0-py3.6         8d863266-7927-4d1e-97d7-56a7f4c0a19b  base\n",
      "spss-modeler_17.1           902d0051-84bd-4af6-ab6b-8f6aa6fdeabb  base\n",
      "do_12.10                    9100fd72-8159-4eb9-8a0b-a87e12eefa36  base\n",
      "hybrid_0.2                  9b3f9040-9cee-4ead-8d7a-780600f542f7  base\n",
      "--------------------------  ------------------------------------  ----\n"
     ]
    }
   ],
   "source": [
    "wml_client.software_specifications.list()"
   ]
  },
  {
   "cell_type": "code",
   "execution_count": 33,
   "metadata": {},
   "outputs": [],
   "source": [
    "\n",
    "model_props = {wml_client.repository.ModelMetaNames.NAME: MODEL_NAME,\n",
    "               wml_client.repository.ModelMetaNames.INPUT_DATA_SCHEMA: input_schema,\n",
    "               wml_client.repository.ModelMetaNames.RUNTIME_UID : \"scikit-learn_0.22-py3.6\",\n",
    "               wml_client.repository.ModelMetaNames.TYPE : \"scikit-learn_0.22\"\n",
    "              }"
   ]
  },
  {
   "cell_type": "code",
   "execution_count": 34,
   "metadata": {
    "scrolled": false
   },
   "outputs": [],
   "source": [
    "model_artifact = wml_client.repository.store_model(kmeans, pipeline=pipeline_org, meta_props=model_props)"
   ]
  },
  {
   "cell_type": "code",
   "execution_count": 35,
   "metadata": {},
   "outputs": [
    {
     "name": "stdout",
     "output_type": "stream",
     "text": [
      "Model UID = 73f17ece-9660-4061-bd10-e19513c91b66\n"
     ]
    }
   ],
   "source": [
    "model_uid = wml_client.repository.get_model_uid(model_artifact)\n",
    "print(\"Model UID = \" + model_uid)"
   ]
  },
  {
   "cell_type": "code",
   "execution_count": 36,
   "metadata": {},
   "outputs": [
    {
     "name": "stdout",
     "output_type": "stream",
     "text": [
      "{\n",
      "   \"metadata\": {\n",
      "      \"name\": \"testmodel0825\",\n",
      "      \"guid\": \"73f17ece-9660-4061-bd10-e19513c91b66\",\n",
      "      \"id\": \"73f17ece-9660-4061-bd10-e19513c91b66\",\n",
      "      \"modified_at\": \"2020-08-25T18:05:06.002Z\",\n",
      "      \"created_at\": \"2020-08-25T18:05:04.002Z\",\n",
      "      \"owner\": \"1000331001\",\n",
      "      \"href\": \"/v4/models/73f17ece-9660-4061-bd10-e19513c91b66?space_id=f5dfdade-b422-4488-b459-490fa1adfbaa\",\n",
      "      \"space_id\": \"f5dfdade-b422-4488-b459-490fa1adfbaa\"\n",
      "   },\n",
      "   \"entity\": {\n",
      "      \"name\": \"testmodel0825\",\n",
      "      \"content_status\": {\n",
      "         \"state\": \"persisted\"\n",
      "      },\n",
      "      \"space\": {\n",
      "         \"id\": \"f5dfdade-b422-4488-b459-490fa1adfbaa\",\n",
      "         \"href\": \"/v4/spaces/f5dfdade-b422-4488-b459-490fa1adfbaa\"\n",
      "      },\n",
      "      \"type\": \"scikit-learn_0.22\",\n",
      "      \"runtime\": {\n",
      "         \"id\": \"scikit-learn_0.22-py3.6\",\n",
      "         \"href\": \"/v4/runtimes/scikit-learn_0.22-py3.6\"\n",
      "      },\n",
      "      \"schemas\": {\n",
      "         \"input\": [\n",
      "            {\n",
      "               \"id\": \"testid\",\n",
      "               \"type\": \"struct\",\n",
      "               \"fields\": [\n",
      "                  {\n",
      "                     \"name\": \"input_cart\",\n",
      "                     \"type\": \"array\",\n",
      "                     \"nullable\": false\n",
      "                  }\n",
      "               ]\n",
      "            }\n",
      "         ],\n",
      "         \"output\": []\n",
      "      }\n",
      "   }\n",
      "}\n"
     ]
    }
   ],
   "source": [
    "import json\n",
    "print(json.dumps(model_artifact, indent=3))"
   ]
  },
  {
   "cell_type": "markdown",
   "metadata": {},
   "source": [
    "<p><font size=-1 color=gray>\n",
    "&copy; Copyright 2019 IBM Corp. All Rights Reserved.\n",
    "<p>\n",
    "Licensed under the Apache License, Version 2.0 (the \"License\"); you may not use this file\n",
    "except in compliance with the License. You may obtain a copy of the License at\n",
    "https://www.apache.org/licenses/LICENSE-2.0\n",
    "Unless required by applicable law or agreed to in writing, software distributed under the\n",
    "License is distributed on an \"AS IS\" BASIS, WITHOUT WARRANTIES OR CONDITIONS OF ANY KIND, either\n",
    "express or implied. See the License for the specific language governing permissions and\n",
    "limitations under the License.\n",
    "</font></p>"
   ]
  }
 ],
 "metadata": {
  "celltoolbar": "Raw Cell Format",
  "kernelspec": {
   "display_name": "Python 3.6",
   "language": "python",
   "name": "python3"
  },
  "language_info": {
   "codemirror_mode": {
    "name": "ipython",
    "version": 3
   },
   "file_extension": ".py",
   "mimetype": "text/x-python",
   "name": "python",
   "nbconvert_exporter": "python",
   "pygments_lexer": "ipython3",
   "version": "3.6.10"
  }
 },
 "nbformat": 4,
 "nbformat_minor": 2
}
