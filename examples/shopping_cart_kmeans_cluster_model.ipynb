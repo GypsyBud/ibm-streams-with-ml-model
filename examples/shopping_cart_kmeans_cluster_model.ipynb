{
 "cells": [
  {
   "cell_type": "markdown",
   "metadata": {},
   "source": [
    "# Clustering data using scikit-learn\n",
    "\n",
    "Clustering algorithms allow you to automatically find ways to group multidimentional data into clusters.\n",
    "\n",
    "In this notebook, we'll use scikit-learn to predict clusters. \n",
    "scikit-learn provides implementations of many clustering algorithms.\n",
    "We'll use **k-means** clustering to create clusters based on a shopping cart dataset.\n",
    "Using that model, we can take any shopping cart and determine which cluster it fits best.\n",
    "\n",
    "Once we've predicted a cluster, we'll use the most popular products in that cluster to\n",
    "recommend additional purchases.\n"
   ]
  },
  {
   "cell_type": "markdown",
   "metadata": {},
   "source": [
    "## Setup\n",
    "\n",
    "### Set your CPD URL in wml_credentials"
   ]
  },
  {
   "cell_type": "code",
   "execution_count": 2,
   "metadata": {},
   "outputs": [],
   "source": [
    "# @hidden_cell\n",
    "import sys,os,os.path\n",
    "\n",
    "token = os.environ['USER_ACCESS_TOKEN']\n",
    "\n",
    "wml_credentials = {\n",
    "\"token\": token,\n",
    "\"instance_id\" : \"openshift\",\n",
    "\"url\": \"https://zen-cpd-zen.apps.marksturpak8.ibmcodetest.us\",  # Provide your CPD URL here\n",
    "\"version\": \"3.0.1\"\n",
    "}\n"
   ]
  },
  {
   "cell_type": "markdown",
   "metadata": {},
   "source": [
    "### Install python modules\n",
    "\n",
    "> NOTE!  Some pip installs require a kernel restart.\n",
    "\n",
    "The shell command `pip install` is used to install Python modules. Some installs require a kernel restart to complete.\n",
    "To avoid confusing errors, run the following cell once and then use the **Kernel** menu to restart the kernel before proceeding."
   ]
  },
  {
   "cell_type": "markdown",
   "metadata": {},
   "source": [
    "### Ensure you have the watson-machine-learning-client version that you need."
   ]
  },
  {
   "cell_type": "code",
   "execution_count": 3,
   "metadata": {
    "scrolled": true
   },
   "outputs": [
    {
     "name": "stdout",
     "output_type": "stream",
     "text": [
      "Found existing installation: watson-machine-learning-client-V4 1.0.95\n",
      "Uninstalling watson-machine-learning-client-V4-1.0.95:\n",
      "  Successfully uninstalled watson-machine-learning-client-V4-1.0.95\n",
      "Collecting watson-machine-learning-client-V4==1.0.112\n",
      "  Downloading watson_machine_learning_client_V4-1.0.112-py3-none-any.whl (1.3 MB)\n",
      "\u001b[K     |████████████████████████████████| 1.3 MB 6.1 MB/s eta 0:00:01ta 0:00:01\n",
      "\u001b[?25hRequirement already satisfied: lomond in /opt/conda/envs/Python-3.6-WMLCE/lib/python3.6/site-packages (from watson-machine-learning-client-V4==1.0.112) (0.3.3)\n",
      "Requirement already satisfied: pandas<=0.25.3 in /opt/conda/envs/Python-3.6-WMLCE/lib/python3.6/site-packages (from watson-machine-learning-client-V4==1.0.112) (0.24.2)\n",
      "Requirement already satisfied: certifi in /user-home/_global_/python-3 (from watson-machine-learning-client-V4==1.0.112) (2019.3.9)\n",
      "Requirement already satisfied: requests in /user-home/_global_/python-3 (from watson-machine-learning-client-V4==1.0.112) (2.21.0)\n",
      "Collecting ibm-cos-sdk==2.6.0\n",
      "  Downloading ibm-cos-sdk-2.6.0.tar.gz (53 kB)\n",
      "\u001b[K     |████████████████████████████████| 53 kB 4.0 MB/s  eta 0:00:01\n",
      "\u001b[?25hRequirement already satisfied: urllib3 in /user-home/_global_/python-3 (from watson-machine-learning-client-V4==1.0.112) (1.24.1)\n",
      "Requirement already satisfied: tabulate in /opt/conda/envs/Python-3.6-WMLCE/lib/python3.6/site-packages (from watson-machine-learning-client-V4==1.0.112) (0.8.2)\n",
      "Requirement already satisfied: six>=1.10.0 in /user-home/_global_/python-3 (from lomond->watson-machine-learning-client-V4==1.0.112) (1.12.0)\n",
      "Requirement already satisfied: pytz>=2011k in /opt/conda/envs/Python-3.6-WMLCE/lib/python3.6/site-packages (from pandas<=0.25.3->watson-machine-learning-client-V4==1.0.112) (2019.3)\n",
      "Requirement already satisfied: numpy>=1.12.0 in /opt/conda/envs/Python-3.6-WMLCE/lib/python3.6/site-packages (from pandas<=0.25.3->watson-machine-learning-client-V4==1.0.112) (1.16.6)\n",
      "Requirement already satisfied: python-dateutil>=2.5.0 in /opt/conda/envs/Python-3.6-WMLCE/lib/python3.6/site-packages (from pandas<=0.25.3->watson-machine-learning-client-V4==1.0.112) (2.7.5)\n",
      "Requirement already satisfied: chardet<3.1.0,>=3.0.2 in /user-home/_global_/python-3 (from requests->watson-machine-learning-client-V4==1.0.112) (3.0.4)\n",
      "Requirement already satisfied: idna<2.9,>=2.5 in /user-home/_global_/python-3 (from requests->watson-machine-learning-client-V4==1.0.112) (2.8)\n",
      "Collecting ibm-cos-sdk-core==2.6.0\n",
      "  Downloading ibm-cos-sdk-core-2.6.0.tar.gz (763 kB)\n",
      "\u001b[K     |████████████████████████████████| 763 kB 72.2 MB/s eta 0:00:01�██████████▍| 747 kB 72.2 MB/s eta 0:00:01\n",
      "\u001b[?25hCollecting ibm-cos-sdk-s3transfer==2.6.0\n",
      "  Downloading ibm-cos-sdk-s3transfer-2.6.0.tar.gz (221 kB)\n",
      "\u001b[K     |████████████████████████████████| 221 kB 54.9 MB/s eta 0:00:01\n",
      "\u001b[?25hRequirement already satisfied: jmespath<1.0.0,>=0.7.1 in /opt/conda/envs/Python-3.6-WMLCE/lib/python3.6/site-packages (from ibm-cos-sdk==2.6.0->watson-machine-learning-client-V4==1.0.112) (0.9.3)\n",
      "Requirement already satisfied: docutils<0.16,>=0.10 in /opt/conda/envs/Python-3.6-WMLCE/lib/python3.6/site-packages (from ibm-cos-sdk-core==2.6.0->ibm-cos-sdk==2.6.0->watson-machine-learning-client-V4==1.0.112) (0.14)\n",
      "Building wheels for collected packages: ibm-cos-sdk, ibm-cos-sdk-core, ibm-cos-sdk-s3transfer\n",
      "  Building wheel for ibm-cos-sdk (setup.py) ... \u001b[?25ldone\n",
      "\u001b[?25h  Created wheel for ibm-cos-sdk: filename=ibm_cos_sdk-2.6.0-py2.py3-none-any.whl size=72547 sha256=512f06148ba01cd16a90f107ba738c62487955f75ee61d544a7910949ae0bc52\n",
      "  Stored in directory: /tmp/wsuser/.cache/pip/wheels/13/89/03/c5e1aee094b9e566edb797826635f10ee9200f26b963eab0c5\n",
      "  Building wheel for ibm-cos-sdk-core (setup.py) ... \u001b[?25ldone\n",
      "\u001b[?25h  Created wheel for ibm-cos-sdk-core: filename=ibm_cos_sdk_core-2.6.0-py2.py3-none-any.whl size=446393 sha256=b7dfc4737f4c0d33c56c52edde6b093a23551490b55baadac9317cbc5bb9d7ec\n",
      "  Stored in directory: /tmp/wsuser/.cache/pip/wheels/16/c6/49/eca0da58bb0f92224e5726ecbbfc87a8fbc1f6e247c10bc16f\n",
      "  Building wheel for ibm-cos-sdk-s3transfer (setup.py) ... \u001b[?25ldone\n",
      "\u001b[?25h  Created wheel for ibm-cos-sdk-s3transfer: filename=ibm_cos_sdk_s3transfer-2.6.0-py2.py3-none-any.whl size=89244 sha256=a487278ff14916fe132c03ff99a4124046f08fa850b439af8e152910601efa7f\n",
      "  Stored in directory: /tmp/wsuser/.cache/pip/wheels/6b/6e/6f/9287cc046f96bb385d2b7e07d573df5e2e6fd3a09f80770206\n",
      "Successfully built ibm-cos-sdk ibm-cos-sdk-core ibm-cos-sdk-s3transfer\n",
      "Installing collected packages: ibm-cos-sdk-core, ibm-cos-sdk-s3transfer, ibm-cos-sdk, watson-machine-learning-client-V4\n",
      "  Attempting uninstall: ibm-cos-sdk-core\n",
      "    Found existing installation: ibm-cos-sdk-core 2.5.1\n",
      "    Uninstalling ibm-cos-sdk-core-2.5.1:\n",
      "      Successfully uninstalled ibm-cos-sdk-core-2.5.1\n",
      "  Attempting uninstall: ibm-cos-sdk-s3transfer\n",
      "    Found existing installation: ibm-cos-sdk-s3transfer 2.5.1\n",
      "    Uninstalling ibm-cos-sdk-s3transfer-2.5.1:\n",
      "      Successfully uninstalled ibm-cos-sdk-s3transfer-2.5.1\n",
      "  Attempting uninstall: ibm-cos-sdk\n",
      "    Found existing installation: ibm-cos-sdk 2.5.1\n",
      "    Uninstalling ibm-cos-sdk-2.5.1:\n",
      "      Successfully uninstalled ibm-cos-sdk-2.5.1\n",
      "Successfully installed ibm-cos-sdk-2.6.0 ibm-cos-sdk-core-2.6.0 ibm-cos-sdk-s3transfer-2.6.0 watson-machine-learning-client-V4-1.0.112\n",
      "watson-machine-learning-client-V4==1.0.112\n"
     ]
    }
   ],
   "source": [
    "!pip uninstall --yes watson-machine-learning-client-V4\n",
    "!pip install watson-machine-learning-client-V4==1.0.112\n",
    "!pip freeze | grep watson-machine-learning-client\n"
   ]
  },
  {
   "cell_type": "code",
   "execution_count": 4,
   "metadata": {},
   "outputs": [
    {
     "name": "stdout",
     "output_type": "stream",
     "text": [
      "scikit-learn==0.22.1\r\n"
     ]
    }
   ],
   "source": [
    "# The Watson Studio Python kernel should already have the scikit-learn module we need.\n",
    "#\n",
    "# Tested on CPD 3.0.1 with scikit-learn==0.22.1\n",
    "\n",
    "!pip freeze | grep scikit-learn\n"
   ]
  },
  {
   "cell_type": "markdown",
   "metadata": {},
   "source": [
    "## Imports\n",
    "\n",
    "Import the python modules that we need in the rest of the notebook."
   ]
  },
  {
   "cell_type": "code",
   "execution_count": 5,
   "metadata": {},
   "outputs": [],
   "source": [
    "import numpy as np\n",
    "import pandas as pd\n",
    "\n",
    "from sklearn.cluster import KMeans\n"
   ]
  },
  {
   "cell_type": "markdown",
   "metadata": {},
   "source": [
    "## Load the shopping cart data for training the model\n",
    "\n",
    "Run the cell below to slurp the shopping cart training data from a CSV file into a pandas DataFrame."
   ]
  },
  {
   "cell_type": "code",
   "execution_count": 6,
   "metadata": {
    "scrolled": true
   },
   "outputs": [],
   "source": [
    "df = pd.read_csv(\"https://raw.githubusercontent.com/IBM/ibm-streams-with-ml-model/master/data/customers_orders1_opt.csv\")"
   ]
  },
  {
   "cell_type": "markdown",
   "metadata": {},
   "source": [
    "## Prepare the cart data\n",
    "\n",
    "Keep the columns with product category values. The keep_columns list of labels will also be handy.\n"
   ]
  },
  {
   "cell_type": "code",
   "execution_count": 7,
   "metadata": {
    "scrolled": true
   },
   "outputs": [
    {
     "data": {
      "text/html": [
       "<div>\n",
       "<style scoped>\n",
       "    .dataframe tbody tr th:only-of-type {\n",
       "        vertical-align: middle;\n",
       "    }\n",
       "\n",
       "    .dataframe tbody tr th {\n",
       "        vertical-align: top;\n",
       "    }\n",
       "\n",
       "    .dataframe thead th {\n",
       "        text-align: right;\n",
       "    }\n",
       "</style>\n",
       "<table border=\"1\" class=\"dataframe\">\n",
       "  <thead>\n",
       "    <tr style=\"text-align: right;\">\n",
       "      <th></th>\n",
       "      <th>Baby Food</th>\n",
       "      <th>Diapers</th>\n",
       "      <th>Formula</th>\n",
       "      <th>Lotion</th>\n",
       "      <th>Baby wash</th>\n",
       "      <th>Wipes</th>\n",
       "      <th>Fresh Fruits</th>\n",
       "      <th>Fresh Vegetables</th>\n",
       "      <th>Beer</th>\n",
       "      <th>Wine</th>\n",
       "      <th>...</th>\n",
       "      <th>Cleaning Products</th>\n",
       "      <th>Condiments</th>\n",
       "      <th>Frozen Foods</th>\n",
       "      <th>Kitchen Items</th>\n",
       "      <th>Meat</th>\n",
       "      <th>Office Supplies</th>\n",
       "      <th>Personal Care</th>\n",
       "      <th>Pet Supplies</th>\n",
       "      <th>Sea Food</th>\n",
       "      <th>Spices</th>\n",
       "    </tr>\n",
       "  </thead>\n",
       "  <tbody>\n",
       "    <tr>\n",
       "      <th>0</th>\n",
       "      <td>0</td>\n",
       "      <td>0</td>\n",
       "      <td>1</td>\n",
       "      <td>1</td>\n",
       "      <td>0</td>\n",
       "      <td>0</td>\n",
       "      <td>0</td>\n",
       "      <td>0</td>\n",
       "      <td>0</td>\n",
       "      <td>0</td>\n",
       "      <td>...</td>\n",
       "      <td>0</td>\n",
       "      <td>1</td>\n",
       "      <td>0</td>\n",
       "      <td>0</td>\n",
       "      <td>0</td>\n",
       "      <td>0</td>\n",
       "      <td>0</td>\n",
       "      <td>0</td>\n",
       "      <td>0</td>\n",
       "      <td>0</td>\n",
       "    </tr>\n",
       "    <tr>\n",
       "      <th>1</th>\n",
       "      <td>0</td>\n",
       "      <td>0</td>\n",
       "      <td>1</td>\n",
       "      <td>0</td>\n",
       "      <td>1</td>\n",
       "      <td>0</td>\n",
       "      <td>0</td>\n",
       "      <td>1</td>\n",
       "      <td>0</td>\n",
       "      <td>0</td>\n",
       "      <td>...</td>\n",
       "      <td>1</td>\n",
       "      <td>0</td>\n",
       "      <td>0</td>\n",
       "      <td>0</td>\n",
       "      <td>0</td>\n",
       "      <td>0</td>\n",
       "      <td>0</td>\n",
       "      <td>0</td>\n",
       "      <td>0</td>\n",
       "      <td>0</td>\n",
       "    </tr>\n",
       "    <tr>\n",
       "      <th>2</th>\n",
       "      <td>0</td>\n",
       "      <td>1</td>\n",
       "      <td>0</td>\n",
       "      <td>0</td>\n",
       "      <td>0</td>\n",
       "      <td>0</td>\n",
       "      <td>0</td>\n",
       "      <td>0</td>\n",
       "      <td>1</td>\n",
       "      <td>0</td>\n",
       "      <td>...</td>\n",
       "      <td>0</td>\n",
       "      <td>0</td>\n",
       "      <td>0</td>\n",
       "      <td>0</td>\n",
       "      <td>0</td>\n",
       "      <td>0</td>\n",
       "      <td>0</td>\n",
       "      <td>0</td>\n",
       "      <td>0</td>\n",
       "      <td>0</td>\n",
       "    </tr>\n",
       "    <tr>\n",
       "      <th>3</th>\n",
       "      <td>0</td>\n",
       "      <td>0</td>\n",
       "      <td>0</td>\n",
       "      <td>1</td>\n",
       "      <td>0</td>\n",
       "      <td>0</td>\n",
       "      <td>0</td>\n",
       "      <td>0</td>\n",
       "      <td>0</td>\n",
       "      <td>0</td>\n",
       "      <td>...</td>\n",
       "      <td>0</td>\n",
       "      <td>0</td>\n",
       "      <td>0</td>\n",
       "      <td>0</td>\n",
       "      <td>0</td>\n",
       "      <td>0</td>\n",
       "      <td>0</td>\n",
       "      <td>0</td>\n",
       "      <td>0</td>\n",
       "      <td>0</td>\n",
       "    </tr>\n",
       "    <tr>\n",
       "      <th>4</th>\n",
       "      <td>0</td>\n",
       "      <td>0</td>\n",
       "      <td>0</td>\n",
       "      <td>0</td>\n",
       "      <td>0</td>\n",
       "      <td>0</td>\n",
       "      <td>0</td>\n",
       "      <td>0</td>\n",
       "      <td>0</td>\n",
       "      <td>0</td>\n",
       "      <td>...</td>\n",
       "      <td>0</td>\n",
       "      <td>0</td>\n",
       "      <td>0</td>\n",
       "      <td>0</td>\n",
       "      <td>0</td>\n",
       "      <td>0</td>\n",
       "      <td>0</td>\n",
       "      <td>0</td>\n",
       "      <td>0</td>\n",
       "      <td>0</td>\n",
       "    </tr>\n",
       "  </tbody>\n",
       "</table>\n",
       "<p>5 rows × 29 columns</p>\n",
       "</div>"
      ],
      "text/plain": [
       "   Baby Food  Diapers  Formula  Lotion  Baby wash  Wipes  Fresh Fruits  \\\n",
       "0          0        0        1       1          0      0             0   \n",
       "1          0        0        1       0          1      0             0   \n",
       "2          0        1        0       0          0      0             0   \n",
       "3          0        0        0       1          0      0             0   \n",
       "4          0        0        0       0          0      0             0   \n",
       "\n",
       "   Fresh Vegetables  Beer  Wine  ...  Cleaning Products  Condiments  \\\n",
       "0                 0     0     0  ...                  0           1   \n",
       "1                 1     0     0  ...                  1           0   \n",
       "2                 0     1     0  ...                  0           0   \n",
       "3                 0     0     0  ...                  0           0   \n",
       "4                 0     0     0  ...                  0           0   \n",
       "\n",
       "   Frozen Foods  Kitchen Items  Meat  Office Supplies  Personal Care  \\\n",
       "0             0              0     0                0              0   \n",
       "1             0              0     0                0              0   \n",
       "2             0              0     0                0              0   \n",
       "3             0              0     0                0              0   \n",
       "4             0              0     0                0              0   \n",
       "\n",
       "   Pet Supplies  Sea Food  Spices  \n",
       "0             0         0       0  \n",
       "1             0         0       0  \n",
       "2             0         0       0  \n",
       "3             0         0       0  \n",
       "4             0         0       0  \n",
       "\n",
       "[5 rows x 29 columns]"
      ]
     },
     "execution_count": 7,
     "metadata": {},
     "output_type": "execute_result"
    }
   ],
   "source": [
    "keep_columns = ['Baby Food','Diapers','Formula','Lotion','Baby wash','Wipes','Fresh Fruits','Fresh Vegetables','Beer','Wine','Club Soda','Sports Drink','Chips','Popcorn','Oatmeal','Medicines','Canned Foods','Cigarettes','Cheese','Cleaning Products','Condiments','Frozen Foods','Kitchen Items','Meat','Office Supplies','Personal Care','Pet Supplies','Sea Food','Spices']\n",
    "df_carts = df[keep_columns]\n",
    "df_carts.head()"
   ]
  },
  {
   "cell_type": "markdown",
   "metadata": {},
   "source": [
    "## Train a k-means model that will put the carts into 10 clusters and show the centers"
   ]
  },
  {
   "cell_type": "code",
   "execution_count": 8,
   "metadata": {},
   "outputs": [],
   "source": [
    "n_clusters = 10\n",
    "kmeans = KMeans(n_clusters=n_clusters)\n",
    "predicted = kmeans.fit_predict(df_carts.values)\n",
    "centers = kmeans.cluster_centers_"
   ]
  },
  {
   "cell_type": "code",
   "execution_count": 9,
   "metadata": {
    "scrolled": true
   },
   "outputs": [
    {
     "name": "stdout",
     "output_type": "stream",
     "text": [
      "CLUSTER CENTERS...\n",
      "Number of clusters:  10\n",
      "Number of products:  29\n",
      "['Baby Food', 'Diapers', 'Formula', 'Lotion', 'Baby wash', 'Wipes', 'Fresh Fruits', 'Fresh Vegetables', 'Beer', 'Wine', 'Club Soda', 'Sports Drink', 'Chips', 'Popcorn', 'Oatmeal', 'Medicines', 'Canned Foods', 'Cigarettes', 'Cheese', 'Cleaning Products', 'Condiments', 'Frozen Foods', 'Kitchen Items', 'Meat', 'Office Supplies', 'Personal Care', 'Pet Supplies', 'Sea Food', 'Spices']\n",
      "[ 0.11, 0.25, 0.12, 0.11, 0.11, 0.12, 0.13, 0.12, 0.14, 0.04, 0.05, 0.12, 0.00, 0.06, 0.13, 0.02, 0.10, 1.00, 0.03, 0.24, 0.22, 0.02, 0.15, 1.00, 0.14, 0.02, 0.13, 0.00, 1.00, ]\n",
      "[ 0.00, 0.01, 0.01, 0.00, 0.01, 0.00, 0.00, 0.00, 0.00, 0.00, 1.00, 0.01, 1.00, 0.80, 0.01, 0.00, 1.00, 0.00, 0.00, 0.01, 0.80, 0.00, 0.01, 0.00, 0.00, 0.00, 0.00, 0.00, 0.00, ]\n",
      "[ 0.14, 0.26, 0.14, 0.13, 0.13, 0.13, 0.13, 0.15, 0.15, 0.00, 0.00, 0.14, 0.00, 0.00, 0.13, 0.00, 0.00, 0.00, 0.00, 0.26, 0.14, 0.00, 0.14, 0.00, 0.14, 0.00, 0.15, 0.00, 0.00, ]\n",
      "[ 0.05, 0.08, 0.05, 0.04, 0.05, 0.04, 0.05, 0.04, 0.04, 1.00, 0.00, 0.04, 0.00, 0.00, 0.04, 0.35, 0.04, 0.35, 0.36, 0.09, 0.08, 1.00, 0.04, 0.02, 0.05, 0.40, 0.05, 0.62, 0.39, ]\n",
      "[ 0.03, 0.06, 0.03, 0.02, 0.03, 0.04, 0.03, 0.04, 0.04, 0.00, 0.00, 0.03, 0.00, 1.00, 0.05, 0.00, 0.00, 0.00, 0.00, 0.07, 0.04, 0.00, 0.04, 0.00, 0.02, 0.00, 0.03, 0.00, 0.00, ]\n",
      "[ 0.04, 0.07, 0.04, 0.03, 0.04, 0.04, 0.03, 0.04, 0.03, 1.00, 0.00, 0.03, 0.00, 0.00, 0.05, 0.52, 0.04, 0.51, 0.49, 0.06, 0.07, 0.00, 0.04, 0.04, 0.03, 0.52, 0.03, 1.00, 0.52, ]\n",
      "[ 0.03, 0.05, 0.03, 0.03, 0.03, 0.03, 0.02, 0.02, 0.02, 0.00, 1.00, 0.03, 0.00, 0.36, 0.03, 0.00, 0.00, 0.00, 0.00, 0.05, 0.03, 0.00, 0.03, 0.00, 0.03, 0.00, 0.02, 0.00, 0.00, ]\n",
      "[ 0.01, 0.01, 0.01, 0.01, 0.01, 0.01, 0.01, 0.01, 0.00, 0.00, 1.00, 0.00, 1.00, 0.00, 0.01, 0.00, 1.00, 0.00, 0.00, 0.01, 0.00, 0.00, 0.01, 0.00, 0.01, 0.00, 0.00, 0.00, 0.00, ]\n",
      "[ 0.11, 0.22, 0.13, 0.13, 0.13, 0.11, 0.16, 0.12, 0.10, 0.00, 0.07, 0.14, 0.00, 0.06, 0.16, 0.00, 1.00, 0.00, 0.00, 0.23, 1.00, 0.00, 0.14, 0.00, 0.13, 0.00, 0.13, 0.00, 0.00, ]\n",
      "[ 0.07, 0.12, 0.06, 0.06, 0.06, 0.07, 0.07, 0.07, 0.07, 0.42, 0.00, 0.08, 0.00, 0.00, 0.05, 0.63, 0.07, 0.67, 0.63, 0.12, 0.14, 0.43, 0.07, 0.07, 0.06, 0.65, 0.05, 0.00, 0.66, ]\n"
     ]
    }
   ],
   "source": [
    "# print(centers) but with nicer number formatting\n",
    "print(\"CLUSTER CENTERS...\")\n",
    "print(\"Number of clusters: \", n_clusters)\n",
    "print(\"Number of products: \", len(keep_columns))\n",
    "print(keep_columns)\n",
    "for center in centers:\n",
    "    print('[ ', end='')\n",
    "    for i in center:\n",
    "        print(\"{:.2f}\".format(abs(i)), end=', ')\n",
    "    print(']')\n"
   ]
  },
  {
   "cell_type": "code",
   "execution_count": 10,
   "metadata": {},
   "outputs": [
    {
     "name": "stdout",
     "output_type": "stream",
     "text": [
      "[1, 0, 1, 1, 1, 1, 0, 1, 0, 0, 0, 0, 0, 0, 0, 0, 0, 0, 0, 0, 0, 0, 0, 0, 0, 0, 0, 0, 0]\n",
      "[1, 0.5, 1, 1, 1, 1, 0.5, 1, 0.5, 0.5, 0.5, 0.5, 0.5, 0.5, 0.5, 0.5, 0.5, 0.5, 0.5, 0.5, 0.5, 0.5, 0.5, 0.5, 0.5, 0.5, 0.5, 0.5, 0.5]\n"
     ]
    }
   ],
   "source": [
    "# Test the model\n",
    "# Provide a shopping cart and see how the model predicts a cluster for it.\n",
    "# Instead of zeros, try 0.5 to let the model decide whether to lean closer to buy or not-buy.\n",
    "test_cart1 = [1,0,1,1,1,1,0,1,0,0,0,0,0,0,0,0,0,0,0,0,0,0,0,0,0,0,0,0,0]\n",
    "test_cart2 = [1,0.5,1,1,1,1,0.5,1,0.5,0.5,0.5,0.5,0.5,0.5,0.5,0.5,0.5,0.5,0.5,0.5,0.5,0.5,0.5,0.5,0.5,0.5,0.5,0.5,0.5]\n",
    "print(test_cart1)\n",
    "print(test_cart2)\n",
    "test_carts = [ test_cart1, test_cart2]"
   ]
  },
  {
   "cell_type": "code",
   "execution_count": 11,
   "metadata": {},
   "outputs": [
    {
     "name": "stdout",
     "output_type": "stream",
     "text": [
      "[2 9]\n",
      "[[ 1.37171888e-01  2.59102456e-01  1.41828959e-01  1.29974598e-01\n",
      "   1.32091448e-01  1.30397968e-01  1.34208298e-01  1.45639289e-01\n",
      "   1.50296359e-01  9.65894031e-15  8.46740051e-04  1.37171888e-01\n",
      "   2.72004641e-15  1.72084569e-15  1.32938188e-01 -3.02535774e-15\n",
      "  -5.60662627e-15 -3.96904731e-15 -5.27355937e-15  2.63336156e-01\n",
      "   1.36748518e-01  3.35842465e-15  1.36748518e-01 -2.52575738e-15\n",
      "   1.35478408e-01 -6.18949336e-15  1.47332769e-01  1.85962357e-15\n",
      "  -7.29971639e-15]\n",
      " [ 7.16332378e-02  1.23209169e-01  6.37535817e-02  6.44699140e-02\n",
      "   6.23209169e-02  7.09169054e-02  7.37822350e-02  6.73352436e-02\n",
      "   7.16332378e-02  4.19770774e-01 -3.66373598e-15  8.09455587e-02\n",
      "   9.04831765e-15  1.66533454e-15  4.72779370e-02  6.27507163e-01\n",
      "   7.02005731e-02  6.67621777e-01  6.31088825e-01  1.24641834e-01\n",
      "   1.38968481e-01  4.29083095e-01  6.73352436e-02  7.23495702e-02\n",
      "   6.01719198e-02  6.46848138e-01  5.44412607e-02 -1.47104551e-15\n",
      "   6.63323782e-01]]\n"
     ]
    }
   ],
   "source": [
    "\n",
    "predicted_cluster = kmeans.predict(   \n",
    "    test_carts)\n",
    "print(predicted_cluster)\n",
    "print(centers[predicted_cluster])"
   ]
  },
  {
   "cell_type": "code",
   "execution_count": 12,
   "metadata": {},
   "outputs": [
    {
     "name": "stdout",
     "output_type": "stream",
     "text": [
      "[ 0.14, 0.26, 0.14, 0.13, 0.13, 0.13, 0.13, 0.15, 0.15, 0.00, 0.00, 0.14, 0.00, 0.00, 0.13, 0.00, 0.00, 0.00, 0.00, 0.26, 0.14, 0.00, 0.14, 0.00, 0.14, 0.00, 0.15, 0.00, 0.00, ]\n",
      "[ 0.07, 0.12, 0.06, 0.06, 0.06, 0.07, 0.07, 0.07, 0.07, 0.42, 0.00, 0.08, 0.00, 0.00, 0.05, 0.63, 0.07, 0.67, 0.63, 0.12, 0.14, 0.43, 0.07, 0.07, 0.06, 0.65, 0.05, 0.00, 0.66, ]\n"
     ]
    }
   ],
   "source": [
    "# print centers of predicted cluster\n",
    "center = centers[predicted_cluster][0]\n",
    "for center in centers[predicted_cluster]:\n",
    "    print('[ ', end='')\n",
    "    for i in center:\n",
    "        print(\"{:.2f}\".format(abs(i)), end=', ')\n",
    "    print(']')"
   ]
  },
  {
   "cell_type": "code",
   "execution_count": 13,
   "metadata": {},
   "outputs": [
    {
     "name": "stdout",
     "output_type": "stream",
     "text": [
      "0.07 already in cart: Baby Food\n",
      "0.06 already in cart: Formula\n",
      "0.06 already in cart: Lotion\n",
      "0.06 already in cart: Baby wash\n",
      "0.07 already in cart: Wipes\n",
      "0.07 already in cart: Fresh Vegetables\n",
      "0.63 product to recommend:  Medicines\n",
      "0.67 product to recommend:  Cigarettes\n",
      "0.63 product to recommend:  Cheese\n",
      "0.65 product to recommend:  Personal Care\n",
      "0.66 product to recommend:  Spices\n",
      "0.12 other product:  Diapers\n",
      "0.07 other product:  Fresh Fruits\n",
      "0.07 other product:  Beer\n",
      "0.42 other product:  Wine\n",
      "-0.00 other product:  Club Soda\n",
      "0.08 other product:  Sports Drink\n",
      "0.00 other product:  Chips\n",
      "0.00 other product:  Popcorn\n",
      "0.05 other product:  Oatmeal\n",
      "0.07 other product:  Canned Foods\n",
      "0.12 other product:  Cleaning Products\n",
      "0.14 other product:  Condiments\n",
      "0.43 other product:  Frozen Foods\n",
      "0.07 other product:  Kitchen Items\n",
      "0.07 other product:  Meat\n",
      "0.06 other product:  Office Supplies\n",
      "0.05 other product:  Pet Supplies\n",
      "-0.00 other product:  Sea Food\n"
     ]
    }
   ],
   "source": [
    "# Use the selected cluster centers to suggest additional products\n",
    "    \n",
    "threshold = 0.5\n",
    "for i, prod in enumerate(keep_columns):\n",
    "    if test_carts[0][i] > threshold:\n",
    "        print(\"{:.2f} already in cart:\".format(center[i]), keep_columns[i])\n",
    "\n",
    "for i, prod in enumerate(keep_columns):\n",
    "    if test_carts[0][i] <= threshold and center[i] > 0.5:\n",
    "        print(\"{:.2f} product to recommend: \".format(center[i]), keep_columns[i] )\n",
    "        \n",
    "for i, prod in enumerate(keep_columns):\n",
    "    if test_carts[0][i] <= threshold and center[i] <= 0.5:\n",
    "        print(\"{:.2f} other product: \".format(center[i]), keep_columns[i] )\n"
   ]
  },
  {
   "cell_type": "code",
   "execution_count": 14,
   "metadata": {},
   "outputs": [],
   "source": [
    "# To store the trained model, first create a deployment space and set it as the default.\n",
    "\n",
    "from watson_machine_learning_client import WatsonMachineLearningAPIClient\n",
    "wml_client = WatsonMachineLearningAPIClient(wml_credentials)"
   ]
  },
  {
   "cell_type": "code",
   "execution_count": 15,
   "metadata": {},
   "outputs": [],
   "source": [
    "# Set your deployment space name and model name\n",
    "\n",
    "MODEL_NAME = \"Shopping Cart Cluster Model\"\n",
    "DEPLOYMENT_SPACE_NAME = \"ibm_streams_with_ml_model_deployment_space\"\n"
   ]
  },
  {
   "cell_type": "code",
   "execution_count": 16,
   "metadata": {},
   "outputs": [],
   "source": [
    "\n",
    "metadata = {\n",
    " wml_client.spaces.ConfigurationMetaNames.NAME: DEPLOYMENT_SPACE_NAME,\n",
    " wml_client.spaces.ConfigurationMetaNames.DESCRIPTION: 'Deployment space created from notebook for shopping cart model'\n",
    "}\n",
    "space_details = wml_client.spaces.store(meta_props=metadata)\n",
    "\n",
    "space_uid = wml_client.spaces.get_uid(space_details)"
   ]
  },
  {
   "cell_type": "code",
   "execution_count": 17,
   "metadata": {},
   "outputs": [
    {
     "data": {
      "text/plain": [
       "'SUCCESS'"
      ]
     },
     "execution_count": 17,
     "metadata": {},
     "output_type": "execute_result"
    }
   ],
   "source": [
    "wml_client.set.default_space(space_uid)"
   ]
  },
  {
   "cell_type": "code",
   "execution_count": 18,
   "metadata": {},
   "outputs": [
    {
     "name": "stdout",
     "output_type": "stream",
     "text": [
      "d7d5fa99-058a-437e-ba53-ea2ce813de39\n"
     ]
    }
   ],
   "source": [
    "print(space_uid)"
   ]
  },
  {
   "cell_type": "code",
   "execution_count": 19,
   "metadata": {},
   "outputs": [
    {
     "name": "stdout",
     "output_type": "stream",
     "text": [
      "------------------------------------  ------------------------------------------  ------------------------\n",
      "GUID                                  NAME                                        CREATED\n",
      "d7d5fa99-058a-437e-ba53-ea2ce813de39  ibm_streams_with_ml_model_deployment_space  2020-08-27T06:39:19.914Z\n",
      "f5dfdade-b422-4488-b459-490fa1adfbaa  testdepspace0825                            2020-08-25T18:02:23.959Z\n",
      "2f0d8a0e-124b-4904-bb31-1a2f38b9c64d  shopping_ml_deployment_space                2020-08-25T02:18:36.466Z\n",
      "9bac80bb-ee30-4ac4-9c34-8de8732e117b  shopping_ml_deployment_space                2020-08-25T01:58:10.188Z\n",
      "ff049a39-bb3c-4c05-97a1-591f57ed7879  shopping_ml_deployment_space                2020-08-25T01:50:47.588Z\n",
      "a39d1834-576b-4861-8d94-b167a2011506  shopping_ml_deployment_space                2020-08-25T01:39:31.515Z\n",
      "b68bc017-4e55-4d3b-a53a-9ef554b3e76d  shopping_ml_deployment_space                2020-08-25T01:37:07.951Z\n",
      "eafb91e0-2eaf-4fc6-afae-407faa18fcb4  shopping_ml_deployment_space                2020-08-25T01:17:36.763Z\n",
      "65b77eec-913a-4e5b-b1ce-348eb2545659  Deployment Space for Shopping ML Project    2020-08-25T01:08:35.560Z\n",
      "191c495c-7196-42a2-85f9-801da8b0fc2c  shopping_ml_deployment_space                2020-08-25T00:36:33.463Z\n",
      "323afad5-c704-49de-91b6-be8ec745ff9f  streams_ml_deployment_space6                2020-08-24T21:23:55.458Z\n",
      "e4102760-827d-4d84-b94c-40972caf3a83  streams_ml_deployment_space                 2020-08-21T22:50:08.641Z\n",
      "9b7f2c54-6c67-4e02-87b6-0d92e65116ec  Streams with ML                             2020-08-21T05:17:42.978Z\n",
      "------------------------------------  ------------------------------------------  ------------------------\n"
     ]
    }
   ],
   "source": [
    "wml_client.spaces.list()"
   ]
  },
  {
   "cell_type": "code",
   "execution_count": 20,
   "metadata": {},
   "outputs": [
    {
     "name": "stdout",
     "output_type": "stream",
     "text": [
      "kmeans-prediction-model.pkl\r\n"
     ]
    }
   ],
   "source": [
    "from sklearn.pipeline import Pipeline\n",
    "import pickle\n",
    "pipeline_org = Pipeline( steps = [ ( \"classifier\", KMeans() ) ] )\n",
    "pipeline_org.fit( df_carts, keep_columns )\n",
    "pickle.dump( pipeline_org, open( \"kmeans-prediction-model.pkl\", 'wb') )\n",
    "\n",
    "!mkdir model-dir\n",
    "!cp kmeans-prediction-model.pkl model-dir\n",
    "!tar -zcvf kmeans-prediction-model.tar.gz kmeans-prediction-model.pkl"
   ]
  },
  {
   "cell_type": "code",
   "execution_count": 21,
   "metadata": {},
   "outputs": [],
   "source": [
    "input_schema = [{\n",
    "    'id': 'testid',\n",
    "    'type': 'struct',\n",
    "    'fields': [\n",
    "        {\n",
    "            'name': 'input_cart',\n",
    "            'type': 'array',\n",
    "            'nullable': False\n",
    "        }\n",
    "    ]\n",
    "}]\n",
    "\n",
    "model_def_meta_props = {\n",
    "     wml_client.model_definitions.ConfigurationMetaNames.NAME: 'Shopping_Cart_Cluster_Model_definition',\n",
    "     wml_client.model_definitions.ConfigurationMetaNames.VERSION: '1.0',\n",
    "     wml_client.model_definitions.ConfigurationMetaNames.PLATFORM: {'name': 'python',  'versions': ['3.6']}\n",
    " }"
   ]
  },
  {
   "cell_type": "code",
   "execution_count": 22,
   "metadata": {},
   "outputs": [],
   "source": [
    "model_def_details = wml_client.model_definitions.store(\n",
    "     model_definition='kmeans-prediction-model.tar.gz',\n",
    "     meta_props=model_def_meta_props\n",
    ")\n",
    "\n",
    "model_def_id = wml_client.model_definitions.get_uid(model_def_details)"
   ]
  },
  {
   "cell_type": "code",
   "execution_count": 23,
   "metadata": {},
   "outputs": [
    {
     "name": "stdout",
     "output_type": "stream",
     "text": [
      "94c0026a-0bd7-4205-86c0-42818e9bf15c\n"
     ]
    }
   ],
   "source": [
    "print(model_def_id)"
   ]
  },
  {
   "cell_type": "code",
   "execution_count": 24,
   "metadata": {},
   "outputs": [
    {
     "name": "stdout",
     "output_type": "stream",
     "text": [
      "--------------------------  ------------------------------------  ----\n",
      "NAME                        ASSET_ID                              TYPE\n",
      "default_py3.6               0062b8c9-8b7d-44a0-a9b9-46c416adcbd9  base\n",
      "scikit-learn_0.20-py3.6     09c5a1d0-9c1e-4473-a344-eb7b665ff687  base\n",
      "ai-function_0.1-py3.6       0cdb0f1e-5376-4f4d-92dd-da3b69aa9bda  base\n",
      "shiny-r3.6                  0e6e79df-875e-4f24-8ae9-62dcc2148306  base\n",
      "pytorch_1.1-py3.6           10ac12d6-6b30-4ccd-8392-3e922c096a92  base\n",
      "scikit-learn_0.22-py3.6     154010fa-5b3b-4ac1-82af-4d5ee5abbc85  base\n",
      "default_r3.6                1b70aec3-ab34-4b87-8aa0-a4a3c8296a36  base\n",
      "tensorflow_1.15-py3.6       2b73a275-7cbf-420b-a912-eae7f436e0bc  base\n",
      "pytorch_1.2-py3.6           2c8ef57d-2687-4b7d-acce-01f94976dac1  base\n",
      "spark-mllib_2.3             2e51f700-bca0-4b0d-88dc-5c6791338875  base\n",
      "pytorch-onnx_1.1-py3.6-edt  32983cea-3f32-4400-8965-dde874a8d67e  base\n",
      "spark-mllib_2.4             390d21f8-e58b-4fac-9c55-d7ceda621326  base\n",
      "xgboost_0.82-py3.6          39e31acd-5f30-41dc-ae44-60233c80306e  base\n",
      "pytorch-onnx_1.2-py3.6-edt  40589d0e-7019-4e28-8daa-fb03b6f4fe12  base\n",
      "spark-mllib_2.4-r_3.6       49403dff-92e9-4c87-a3d7-a42d0021c095  base\n",
      "xgboost_0.90-py3.6          4ff8d6c2-1343-4c18-85e1-689c965304d3  base\n",
      "pytorch-onnx_1.1-py3.6      50f95b2a-bc16-43bb-bc94-b0bed208c60b  base\n",
      "spark-mllib_2.4-scala_2.11  55a70f99-7320-4be5-9fb9-9edb5a443af5  base\n",
      "spss-modeler_18.1           5c3cad7e-507f-4b2a-a9a3-ab53a21dee8b  base\n",
      "spark-mllib_2.3-r_3.6       6586b9e3-ccd6-4f92-900f-0f8cb2bd6f0c  base\n",
      "spss-modeler_18.2           687eddc9-028a-4117-b9dd-e57b36f1efa5  base\n",
      "pytorch-onnx_1.2-py3.6      692a6a4d-2c4d-45ff-a1ed-b167ee55469a  base\n",
      "do_12.9                     75a3a4b0-6aa0-41b3-a618-48b1f56332a6  base\n",
      "spark-mllib_2.3-scala_2.11  7963efe5-bbec-417e-92cf-0574e21b4e8d  base\n",
      "caffe_1.0-py3.6             7bb3dbe2-da6e-4145-918d-b6d84aa93b6b  base\n",
      "cuda-py3.6                  82c79ece-4d12-40e6-8787-a7b9e0f62770  base\n",
      "hybrid_0.1                  8c1a58c6-62b5-4dc4-987a-df751c2756b6  base\n",
      "caffe-ibm_1.0-py3.6         8d863266-7927-4d1e-97d7-56a7f4c0a19b  base\n",
      "spss-modeler_17.1           902d0051-84bd-4af6-ab6b-8f6aa6fdeabb  base\n",
      "do_12.10                    9100fd72-8159-4eb9-8a0b-a87e12eefa36  base\n",
      "hybrid_0.2                  9b3f9040-9cee-4ead-8d7a-780600f542f7  base\n",
      "--------------------------  ------------------------------------  ----\n"
     ]
    }
   ],
   "source": [
    "wml_client.software_specifications.list()"
   ]
  },
  {
   "cell_type": "code",
   "execution_count": 25,
   "metadata": {},
   "outputs": [],
   "source": [
    "\n",
    "model_props = {wml_client.repository.ModelMetaNames.NAME: MODEL_NAME,\n",
    "               wml_client.repository.ModelMetaNames.INPUT_DATA_SCHEMA: input_schema,\n",
    "               wml_client.repository.ModelMetaNames.RUNTIME_UID : \"scikit-learn_0.22-py3.6\",\n",
    "               wml_client.repository.ModelMetaNames.TYPE : \"scikit-learn_0.22\"\n",
    "              }"
   ]
  },
  {
   "cell_type": "code",
   "execution_count": 26,
   "metadata": {
    "scrolled": false
   },
   "outputs": [],
   "source": [
    "model_artifact = wml_client.repository.store_model(kmeans, pipeline=pipeline_org, meta_props=model_props)"
   ]
  },
  {
   "cell_type": "code",
   "execution_count": 27,
   "metadata": {},
   "outputs": [
    {
     "name": "stdout",
     "output_type": "stream",
     "text": [
      "Model UID = 20a0ea1c-0f41-4844-aa05-33c53263a399\n"
     ]
    }
   ],
   "source": [
    "model_uid = wml_client.repository.get_model_uid(model_artifact)\n",
    "print(\"Model UID = \" + model_uid)"
   ]
  },
  {
   "cell_type": "code",
   "execution_count": 28,
   "metadata": {},
   "outputs": [
    {
     "name": "stdout",
     "output_type": "stream",
     "text": [
      "{\n",
      "   \"metadata\": {\n",
      "      \"name\": \"Shopping Cart Cluster Model\",\n",
      "      \"guid\": \"20a0ea1c-0f41-4844-aa05-33c53263a399\",\n",
      "      \"id\": \"20a0ea1c-0f41-4844-aa05-33c53263a399\",\n",
      "      \"modified_at\": \"2020-08-27T06:40:52.002Z\",\n",
      "      \"created_at\": \"2020-08-27T06:40:50.002Z\",\n",
      "      \"owner\": \"1000331001\",\n",
      "      \"href\": \"/v4/models/20a0ea1c-0f41-4844-aa05-33c53263a399?space_id=d7d5fa99-058a-437e-ba53-ea2ce813de39\",\n",
      "      \"space_id\": \"d7d5fa99-058a-437e-ba53-ea2ce813de39\"\n",
      "   },\n",
      "   \"entity\": {\n",
      "      \"name\": \"Shopping Cart Cluster Model\",\n",
      "      \"content_status\": {\n",
      "         \"state\": \"persisted\"\n",
      "      },\n",
      "      \"space\": {\n",
      "         \"id\": \"d7d5fa99-058a-437e-ba53-ea2ce813de39\",\n",
      "         \"href\": \"/v4/spaces/d7d5fa99-058a-437e-ba53-ea2ce813de39\"\n",
      "      },\n",
      "      \"type\": \"scikit-learn_0.22\",\n",
      "      \"runtime\": {\n",
      "         \"id\": \"scikit-learn_0.22-py3.6\",\n",
      "         \"href\": \"/v4/runtimes/scikit-learn_0.22-py3.6\"\n",
      "      },\n",
      "      \"schemas\": {\n",
      "         \"input\": [\n",
      "            {\n",
      "               \"id\": \"testid\",\n",
      "               \"type\": \"struct\",\n",
      "               \"fields\": [\n",
      "                  {\n",
      "                     \"name\": \"input_cart\",\n",
      "                     \"type\": \"array\",\n",
      "                     \"nullable\": false\n",
      "                  }\n",
      "               ]\n",
      "            }\n",
      "         ],\n",
      "         \"output\": []\n",
      "      }\n",
      "   }\n",
      "}\n"
     ]
    }
   ],
   "source": [
    "import json\n",
    "print(json.dumps(model_artifact, indent=3))"
   ]
  },
  {
   "cell_type": "markdown",
   "metadata": {},
   "source": [
    "<p><font size=-1 color=gray>\n",
    "&copy; Copyright 2019 IBM Corp. All Rights Reserved.\n",
    "<p>\n",
    "Licensed under the Apache License, Version 2.0 (the \"License\"); you may not use this file\n",
    "except in compliance with the License. You may obtain a copy of the License at\n",
    "https://www.apache.org/licenses/LICENSE-2.0\n",
    "Unless required by applicable law or agreed to in writing, software distributed under the\n",
    "License is distributed on an \"AS IS\" BASIS, WITHOUT WARRANTIES OR CONDITIONS OF ANY KIND, either\n",
    "express or implied. See the License for the specific language governing permissions and\n",
    "limitations under the License.\n",
    "</font></p>"
   ]
  }
 ],
 "metadata": {
  "celltoolbar": "Raw Cell Format",
  "kernelspec": {
   "display_name": "Python 3.6",
   "language": "python",
   "name": "python3"
  },
  "language_info": {
   "codemirror_mode": {
    "name": "ipython",
    "version": 3
   },
   "file_extension": ".py",
   "mimetype": "text/x-python",
   "name": "python",
   "nbconvert_exporter": "python",
   "pygments_lexer": "ipython3",
   "version": "3.6.10"
  }
 },
 "nbformat": 4,
 "nbformat_minor": 2
}
